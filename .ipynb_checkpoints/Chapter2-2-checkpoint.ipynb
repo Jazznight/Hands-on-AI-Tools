{
 "cells": [
  {
   "cell_type": "markdown",
   "metadata": {},
   "source": [
    "# 美國波士頓房價問題（回歸預測使用 SVR）"
   ]
  },
  {
   "cell_type": "markdown",
   "metadata": {},
   "source": [
    "使用不同核函數的 Support Vector Machine Regression 來解回歸問題。\n",
    "\n",
    "我們使用的資料集是 sklearn 內建的波士頓房價資料集。"
   ]
  },
  {
   "cell_type": "markdown",
   "metadata": {},
   "source": [
    "## Step1 載入資料集"
   ]
  },
  {
   "cell_type": "code",
   "execution_count": 1,
   "metadata": {},
   "outputs": [],
   "source": [
    "# 從 sklearn.dataset 載入波士頓房價資料集\n",
    "from sklearn.datasets import load_boston\n",
    "boston = load_boston()"
   ]
  },
  {
   "cell_type": "code",
   "execution_count": 2,
   "metadata": {},
   "outputs": [
    {
     "data": {
      "text/plain": [
       "{'DESCR': \"Boston House Prices dataset\\n===========================\\n\\nNotes\\n------\\nData Set Characteristics:  \\n\\n    :Number of Instances: 506 \\n\\n    :Number of Attributes: 13 numeric/categorical predictive\\n    \\n    :Median Value (attribute 14) is usually the target\\n\\n    :Attribute Information (in order):\\n        - CRIM     per capita crime rate by town\\n        - ZN       proportion of residential land zoned for lots over 25,000 sq.ft.\\n        - INDUS    proportion of non-retail business acres per town\\n        - CHAS     Charles River dummy variable (= 1 if tract bounds river; 0 otherwise)\\n        - NOX      nitric oxides concentration (parts per 10 million)\\n        - RM       average number of rooms per dwelling\\n        - AGE      proportion of owner-occupied units built prior to 1940\\n        - DIS      weighted distances to five Boston employment centres\\n        - RAD      index of accessibility to radial highways\\n        - TAX      full-value property-tax rate per $10,000\\n        - PTRATIO  pupil-teacher ratio by town\\n        - B        1000(Bk - 0.63)^2 where Bk is the proportion of blacks by town\\n        - LSTAT    % lower status of the population\\n        - MEDV     Median value of owner-occupied homes in $1000's\\n\\n    :Missing Attribute Values: None\\n\\n    :Creator: Harrison, D. and Rubinfeld, D.L.\\n\\nThis is a copy of UCI ML housing dataset.\\nhttp://archive.ics.uci.edu/ml/datasets/Housing\\n\\n\\nThis dataset was taken from the StatLib library which is maintained at Carnegie Mellon University.\\n\\nThe Boston house-price data of Harrison, D. and Rubinfeld, D.L. 'Hedonic\\nprices and the demand for clean air', J. Environ. Economics & Management,\\nvol.5, 81-102, 1978.   Used in Belsley, Kuh & Welsch, 'Regression diagnostics\\n...', Wiley, 1980.   N.B. Various transformations are used in the table on\\npages 244-261 of the latter.\\n\\nThe Boston house-price data has been used in many machine learning papers that address regression\\nproblems.   \\n     \\n**References**\\n\\n   - Belsley, Kuh & Welsch, 'Regression diagnostics: Identifying Influential Data and Sources of Collinearity', Wiley, 1980. 244-261.\\n   - Quinlan,R. (1993). Combining Instance-Based and Model-Based Learning. In Proceedings on the Tenth International Conference of Machine Learning, 236-243, University of Massachusetts, Amherst. Morgan Kaufmann.\\n   - many more! (see http://archive.ics.uci.edu/ml/datasets/Housing)\\n\",\n",
       " 'data': array([[  6.32000000e-03,   1.80000000e+01,   2.31000000e+00, ...,\n",
       "           1.53000000e+01,   3.96900000e+02,   4.98000000e+00],\n",
       "        [  2.73100000e-02,   0.00000000e+00,   7.07000000e+00, ...,\n",
       "           1.78000000e+01,   3.96900000e+02,   9.14000000e+00],\n",
       "        [  2.72900000e-02,   0.00000000e+00,   7.07000000e+00, ...,\n",
       "           1.78000000e+01,   3.92830000e+02,   4.03000000e+00],\n",
       "        ..., \n",
       "        [  6.07600000e-02,   0.00000000e+00,   1.19300000e+01, ...,\n",
       "           2.10000000e+01,   3.96900000e+02,   5.64000000e+00],\n",
       "        [  1.09590000e-01,   0.00000000e+00,   1.19300000e+01, ...,\n",
       "           2.10000000e+01,   3.93450000e+02,   6.48000000e+00],\n",
       "        [  4.74100000e-02,   0.00000000e+00,   1.19300000e+01, ...,\n",
       "           2.10000000e+01,   3.96900000e+02,   7.88000000e+00]]),\n",
       " 'feature_names': array(['CRIM', 'ZN', 'INDUS', 'CHAS', 'NOX', 'RM', 'AGE', 'DIS', 'RAD',\n",
       "        'TAX', 'PTRATIO', 'B', 'LSTAT'],\n",
       "       dtype='|S7'),\n",
       " 'target': array([ 24. ,  21.6,  34.7,  33.4,  36.2,  28.7,  22.9,  27.1,  16.5,\n",
       "         18.9,  15. ,  18.9,  21.7,  20.4,  18.2,  19.9,  23.1,  17.5,\n",
       "         20.2,  18.2,  13.6,  19.6,  15.2,  14.5,  15.6,  13.9,  16.6,\n",
       "         14.8,  18.4,  21. ,  12.7,  14.5,  13.2,  13.1,  13.5,  18.9,\n",
       "         20. ,  21. ,  24.7,  30.8,  34.9,  26.6,  25.3,  24.7,  21.2,\n",
       "         19.3,  20. ,  16.6,  14.4,  19.4,  19.7,  20.5,  25. ,  23.4,\n",
       "         18.9,  35.4,  24.7,  31.6,  23.3,  19.6,  18.7,  16. ,  22.2,\n",
       "         25. ,  33. ,  23.5,  19.4,  22. ,  17.4,  20.9,  24.2,  21.7,\n",
       "         22.8,  23.4,  24.1,  21.4,  20. ,  20.8,  21.2,  20.3,  28. ,\n",
       "         23.9,  24.8,  22.9,  23.9,  26.6,  22.5,  22.2,  23.6,  28.7,\n",
       "         22.6,  22. ,  22.9,  25. ,  20.6,  28.4,  21.4,  38.7,  43.8,\n",
       "         33.2,  27.5,  26.5,  18.6,  19.3,  20.1,  19.5,  19.5,  20.4,\n",
       "         19.8,  19.4,  21.7,  22.8,  18.8,  18.7,  18.5,  18.3,  21.2,\n",
       "         19.2,  20.4,  19.3,  22. ,  20.3,  20.5,  17.3,  18.8,  21.4,\n",
       "         15.7,  16.2,  18. ,  14.3,  19.2,  19.6,  23. ,  18.4,  15.6,\n",
       "         18.1,  17.4,  17.1,  13.3,  17.8,  14. ,  14.4,  13.4,  15.6,\n",
       "         11.8,  13.8,  15.6,  14.6,  17.8,  15.4,  21.5,  19.6,  15.3,\n",
       "         19.4,  17. ,  15.6,  13.1,  41.3,  24.3,  23.3,  27. ,  50. ,\n",
       "         50. ,  50. ,  22.7,  25. ,  50. ,  23.8,  23.8,  22.3,  17.4,\n",
       "         19.1,  23.1,  23.6,  22.6,  29.4,  23.2,  24.6,  29.9,  37.2,\n",
       "         39.8,  36.2,  37.9,  32.5,  26.4,  29.6,  50. ,  32. ,  29.8,\n",
       "         34.9,  37. ,  30.5,  36.4,  31.1,  29.1,  50. ,  33.3,  30.3,\n",
       "         34.6,  34.9,  32.9,  24.1,  42.3,  48.5,  50. ,  22.6,  24.4,\n",
       "         22.5,  24.4,  20. ,  21.7,  19.3,  22.4,  28.1,  23.7,  25. ,\n",
       "         23.3,  28.7,  21.5,  23. ,  26.7,  21.7,  27.5,  30.1,  44.8,\n",
       "         50. ,  37.6,  31.6,  46.7,  31.5,  24.3,  31.7,  41.7,  48.3,\n",
       "         29. ,  24. ,  25.1,  31.5,  23.7,  23.3,  22. ,  20.1,  22.2,\n",
       "         23.7,  17.6,  18.5,  24.3,  20.5,  24.5,  26.2,  24.4,  24.8,\n",
       "         29.6,  42.8,  21.9,  20.9,  44. ,  50. ,  36. ,  30.1,  33.8,\n",
       "         43.1,  48.8,  31. ,  36.5,  22.8,  30.7,  50. ,  43.5,  20.7,\n",
       "         21.1,  25.2,  24.4,  35.2,  32.4,  32. ,  33.2,  33.1,  29.1,\n",
       "         35.1,  45.4,  35.4,  46. ,  50. ,  32.2,  22. ,  20.1,  23.2,\n",
       "         22.3,  24.8,  28.5,  37.3,  27.9,  23.9,  21.7,  28.6,  27.1,\n",
       "         20.3,  22.5,  29. ,  24.8,  22. ,  26.4,  33.1,  36.1,  28.4,\n",
       "         33.4,  28.2,  22.8,  20.3,  16.1,  22.1,  19.4,  21.6,  23.8,\n",
       "         16.2,  17.8,  19.8,  23.1,  21. ,  23.8,  23.1,  20.4,  18.5,\n",
       "         25. ,  24.6,  23. ,  22.2,  19.3,  22.6,  19.8,  17.1,  19.4,\n",
       "         22.2,  20.7,  21.1,  19.5,  18.5,  20.6,  19. ,  18.7,  32.7,\n",
       "         16.5,  23.9,  31.2,  17.5,  17.2,  23.1,  24.5,  26.6,  22.9,\n",
       "         24.1,  18.6,  30.1,  18.2,  20.6,  17.8,  21.7,  22.7,  22.6,\n",
       "         25. ,  19.9,  20.8,  16.8,  21.9,  27.5,  21.9,  23.1,  50. ,\n",
       "         50. ,  50. ,  50. ,  50. ,  13.8,  13.8,  15. ,  13.9,  13.3,\n",
       "         13.1,  10.2,  10.4,  10.9,  11.3,  12.3,   8.8,   7.2,  10.5,\n",
       "          7.4,  10.2,  11.5,  15.1,  23.2,   9.7,  13.8,  12.7,  13.1,\n",
       "         12.5,   8.5,   5. ,   6.3,   5.6,   7.2,  12.1,   8.3,   8.5,\n",
       "          5. ,  11.9,  27.9,  17.2,  27.5,  15. ,  17.2,  17.9,  16.3,\n",
       "          7. ,   7.2,   7.5,  10.4,   8.8,   8.4,  16.7,  14.2,  20.8,\n",
       "         13.4,  11.7,   8.3,  10.2,  10.9,  11. ,   9.5,  14.5,  14.1,\n",
       "         16.1,  14.3,  11.7,  13.4,   9.6,   8.7,   8.4,  12.8,  10.5,\n",
       "         17.1,  18.4,  15.4,  10.8,  11.8,  14.9,  12.6,  14.1,  13. ,\n",
       "         13.4,  15.2,  16.1,  17.8,  14.9,  14.1,  12.7,  13.5,  14.9,\n",
       "         20. ,  16.4,  17.7,  19.5,  20.2,  21.4,  19.9,  19. ,  19.1,\n",
       "         19.1,  20.1,  19.9,  19.6,  23.2,  29.8,  13.8,  13.3,  16.7,\n",
       "         12. ,  14.6,  21.4,  23. ,  23.7,  25. ,  21.8,  20.6,  21.2,\n",
       "         19.1,  20.6,  15.2,   7. ,   8.1,  13.6,  20.1,  21.8,  24.5,\n",
       "         23.1,  19.7,  18.3,  21.2,  17.5,  16.8,  22.4,  20.6,  23.9,\n",
       "         22. ,  11.9])}"
      ]
     },
     "execution_count": 2,
     "metadata": {},
     "output_type": "execute_result"
    }
   ],
   "source": [
    "boston"
   ]
  },
  {
   "cell_type": "code",
   "execution_count": 3,
   "metadata": {},
   "outputs": [
    {
     "name": "stderr",
     "output_type": "stream",
     "text": [
      "/Users/fukuball/Projects/Hands-on-AI-Tools-env/lib/python2.7/site-packages/sklearn/cross_validation.py:41: DeprecationWarning: This module was deprecated in version 0.18 in favor of the model_selection module into which all the refactored classes and functions are moved. Also note that the interface of the new CV iterators are different from that of this module. This module will be removed in 0.20.\n",
      "  \"This module will be removed in 0.20.\", DeprecationWarning)\n"
     ]
    }
   ],
   "source": [
    "# 從 sklearn.cross_validation 導入 train_test_split 用於數據分割\n",
    "from sklearn.cross_validation import train_test_split\n",
    "X = boston.data\n",
    "y = boston.target\n",
    "X_train, X_test, y_train, y_test = train_test_split(X, y, random_state=33, test_size=0.25)"
   ]
  },
  {
   "cell_type": "markdown",
   "metadata": {},
   "source": [
    "## Step2 資料前置處理（標準化）"
   ]
  },
  {
   "cell_type": "code",
   "execution_count": 4,
   "metadata": {},
   "outputs": [],
   "source": [
    "# 在上述對數據的初步分析中發現目標房價之間的差異較大，因此也需要對目標值進行標準化處理\n",
    "original_y_test = y_test\n",
    "from sklearn.preprocessing import StandardScaler\n",
    "ss_X = StandardScaler()\n",
    "ss_y = StandardScaler()\n",
    "X_train = ss_X.fit_transform(X_train)\n",
    "X_test = ss_X.transform(X_test)\n",
    "y_train = ss_y.fit_transform(y_train.reshape(-1, 1))\n",
    "y_test = ss_y.transform(y_test.reshape(-1, 1))"
   ]
  },
  {
   "cell_type": "code",
   "execution_count": 5,
   "metadata": {},
   "outputs": [
    {
     "data": {
      "text/plain": [
       "array([  1.17202994e+00,  -2.82736122e-01,  -1.37111665e+00,\n",
       "        -9.95433590e-02,  -1.85751718e-01,   1.37529628e-01,\n",
       "         6.54779782e-01,  -2.41110450e-02,  -1.21095449e-01,\n",
       "         1.29056643e+00,   2.45290077e-01,  -2.18079853e-01,\n",
       "        -3.79720526e-01,  -3.15064256e-01,  -9.61626948e-01,\n",
       "         7.73316275e-01,   1.09659762e+00,  -2.50407987e-01,\n",
       "        -3.48870898e-02,   1.12892576e+00,  -3.04288212e-01,\n",
       "        -1.33878852e+00,  -7.89210231e-01,  -6.59897692e-01,\n",
       "        -3.48870898e-02,   1.25823829e+00,  -3.36616346e-01,\n",
       "        -5.52137243e-01,  -9.95433590e-02,  -5.95241423e-01,\n",
       "        -8.10762320e-01,  -6.70673737e-01,  -3.48870898e-02,\n",
       "        -8.43090455e-01,  -1.64199628e-01,  -8.21538365e-01,\n",
       "        -1.67284591e+00,  -9.72402993e-01,  -5.73689333e-01,\n",
       "         2.23737987e-01,   2.56213972e+00,  -6.27569558e-01,\n",
       "         1.89931345e-02,  -4.55152840e-01,  -1.10319404e-01,\n",
       "        -4.33600750e-01,   4.06930750e-01,  -6.72152244e-02,\n",
       "         2.23737987e-01,  -8.96970679e-01,   2.14187397e+00,\n",
       "        -6.06017468e-01,  -7.79912693e-02,   1.46298315e+00,\n",
       "        -1.33350001e-02,  -3.25840301e-01,   1.43065501e+00,\n",
       "         2.91774920e+00,   2.23737987e-01,  -7.79912693e-02,\n",
       "        -5.84465378e-01,   1.05201493e-01,  -3.58168436e-01,\n",
       "         1.91409852e-01,   5.90123512e-01,  -1.53275733e+00,\n",
       "        -1.31871494e-01,  -3.15064256e-01,  -3.25840301e-01,\n",
       "         1.69857763e-01,  -8.53866500e-01,  -1.71595009e+00,\n",
       "        -8.32314410e-01,  -2.71960077e-01,  -1.55430942e+00,\n",
       "        -6.27569558e-01,   7.73316275e-01,  -8.53866500e-01,\n",
       "        -3.79720526e-01,   2.97691794e-02,  -6.38345602e-01,\n",
       "        -4.33600750e-01,   2.91774920e+00,   2.23737987e-01,\n",
       "         2.48670741e+00,  -1.69439800e+00,  -5.52137243e-01,\n",
       "         1.31211852e+00,   1.48305673e-01,  -1.93147099e+00,\n",
       "        -6.81449782e-01,  -1.21095449e-01,   6.00899557e-01,\n",
       "        -9.95433590e-02,  -2.82736122e-01,  -1.31871494e-01,\n",
       "         3.74602615e-01,   8.37972544e-01,   2.91774920e+00,\n",
       "        -6.16793513e-01,   3.96154705e-01,  -2.07303808e-01,\n",
       "         5.13212691e-02,  -3.68944481e-01,  -2.39631942e-01,\n",
       "         4.05452242e-02,   2.78843667e+00,  -7.89210231e-01,\n",
       "        -3.58168436e-01,  -5.95241423e-01,  -1.31871494e-01,\n",
       "        -8.96970679e-01,   1.61384777e+00,  -1.42499688e+00,\n",
       "        -5.52137243e-01,  -1.16637180e+00,  -3.04288212e-01,\n",
       "         7.51764185e-01,   3.74602615e-01,  -4.44376795e-01,\n",
       "         1.03194135e+00,  -7.78434186e-01,  -1.02628322e+00,\n",
       "        -1.31871494e-01,   7.28733588e-02,  -1.18792389e+00,\n",
       "        -9.83179038e-01,  -7.79912693e-02,  -1.06938740e+00,\n",
       "         1.10737367e+00,   2.91774920e+00,  -6.72152244e-02,\n",
       "        -5.64391796e-02,   9.44254486e-02,   6.65555826e-01,\n",
       "        -2.28855897e-01,   8.36494037e-02,  -3.36616346e-01,\n",
       "        -9.72402993e-01,   5.90123512e-01,   2.42205114e+00,\n",
       "         8.36494037e-02,   2.91774920e+00,  -5.30585154e-01,\n",
       "        -6.27569558e-01,  -4.33600750e-01,  -1.34956456e+00,\n",
       "         1.91409852e-01,   1.05201493e-01,   8.21708962e-03,\n",
       "        -2.93512167e-01,  -1.55430942e+00,  -9.40074859e-01,\n",
       "        -2.82736122e-01,  -4.76704929e-01,  -1.17714785e+00,\n",
       "        -3.90496570e-01,  -2.50407987e-01,  -7.35330006e-01,\n",
       "        -1.14481971e+00,   1.89931345e-02,  -2.41110450e-02,\n",
       "        -2.82736122e-01,  -6.70673737e-01,   5.36243288e-01,\n",
       "        -1.64199628e-01,  -1.59741360e+00,   1.58151964e+00,\n",
       "        -7.89210231e-01,   7.19436051e-01,  -2.55895525e-03,\n",
       "         2.02185897e-01,   1.59081718e-01,   2.91774920e+00,\n",
       "         6.22451647e-01,   2.91774920e+00,  -6.92225827e-01,\n",
       "        -5.09033064e-01,   2.91774920e+00,  -7.24553961e-01,\n",
       "        -9.50850904e-01,  -1.85751718e-01,  -4.87480974e-01,\n",
       "         2.23737987e-01,   2.91774920e+00,  -1.85751718e-01,\n",
       "        -2.71960077e-01,  -8.32314410e-01,  -9.95433590e-02,\n",
       "        -3.36616346e-01,  -8.87673142e-02,   1.05201493e-01,\n",
       "         1.80633807e-01,   1.05201493e-01,  -1.31871494e-01,\n",
       "         2.35739487e+00,  -1.69439800e+00,  -4.76704929e-01,\n",
       "        -3.04288212e-01,   4.05452242e-02,  -4.01272615e-01,\n",
       "         6.65555826e-01,   8.70300679e-01,  -2.55895525e-03,\n",
       "         4.93139109e-01,   1.81859263e+00,  -9.95433590e-02,\n",
       "        -1.33350001e-02,  -2.55895525e-03,  -9.29298814e-01,\n",
       "        -9.07746724e-01,  -5.64391796e-02,  -3.90496570e-01,\n",
       "         9.78061128e-01,  -3.04288212e-01,  -4.98257019e-01,\n",
       "         1.69857763e-01,  -4.87480974e-01,   1.89931345e-02,\n",
       "        -3.48870898e-02,  -2.93512167e-01,  -5.52137243e-01,\n",
       "         9.34956948e-01,   2.21730629e+00,   1.45220710e+00,\n",
       "        -1.25258016e+00,  -2.61184032e-01,   2.97691794e-02,\n",
       "         7.40988141e-01,  -2.50407987e-01,   1.48305673e-01,\n",
       "        -5.19809109e-01,  -4.12048660e-01,  -1.64199628e-01,\n",
       "         9.24180903e-01,  -4.01272615e-01,  -9.29298814e-01,\n",
       "         2.02185897e-01,  -1.96527763e-01,  -5.09033064e-01,\n",
       "         2.73455644e+00,  -3.79720526e-01,  -1.85751718e-01,\n",
       "        -1.29568434e+00,   4.93139109e-01,   1.26901434e+00,\n",
       "        -9.18522769e-01,  -1.33350001e-02,  -5.52137243e-01,\n",
       "         2.91774920e+00,   1.59081718e-01,  -1.09093949e+00,\n",
       "         8.48748589e-01,   5.68571423e-01,   2.23737987e-01,\n",
       "         1.09659762e+00,   4.93139109e-01,  -1.10171553e+00,\n",
       "         2.17420211e+00,  -1.02628322e+00,  -1.53423583e-01,\n",
       "         1.12892576e+00,   9.44254486e-02,  -2.07303808e-01,\n",
       "         3.96154705e-01,  -4.76704929e-01,   8.21708962e-03,\n",
       "         1.26753583e-01,  -2.61184032e-01,   9.99613217e-01,\n",
       "        -9.18522769e-01,  -1.19869994e+00,  -3.68944481e-01,\n",
       "         8.36494037e-02,  -1.04783531e+00,   6.54779782e-01,\n",
       "        -5.09033064e-01,  -4.65928885e-01,   8.21708962e-03,\n",
       "         2.08799375e+00,  -6.16793513e-01,  -7.24553961e-01,\n",
       "        -3.15064256e-01,   7.94868365e-01,  -2.18079853e-01,\n",
       "        -2.71960077e-01,   2.02185897e-01,  -4.55152840e-01,\n",
       "        -6.59897692e-01,  -4.56631347e-02,  -4.44376795e-01,\n",
       "         8.36494037e-02,   9.44254486e-02,  -3.58168436e-01,\n",
       "        -2.71960077e-01,  -7.35330006e-01,   2.27118651e+00,\n",
       "        -3.90496570e-01,  -5.95241423e-01,  -1.37111665e+00,\n",
       "        -1.20947598e+00,   1.53841546e+00,  -1.28490829e+00,\n",
       "         7.28733588e-02,  -1.33350001e-02,  -8.53866500e-01,\n",
       "         1.29056643e+00,  -5.41361199e-01,   1.59081718e-01,\n",
       "         1.69857763e-01,  -1.79138240e+00,   6.97883961e-01,\n",
       "        -1.34956456e+00,   1.70005613e+00,  -3.15064256e-01,\n",
       "        -3.79720526e-01,   1.51686337e+00,   2.91774920e+00,\n",
       "        -4.55152840e-01,   2.75610853e+00,   1.34444665e+00,\n",
       "         5.13212691e-02,  -1.71595009e+00,   2.91774920e+00,\n",
       "        -2.39631942e-01,   1.34444665e+00,  -1.43577292e+00,\n",
       "         2.34514032e-01,  -7.35330006e-01,   4.39258884e-01,\n",
       "        -6.81449782e-01,  -1.03705926e+00,   2.23737987e-01,\n",
       "         1.15977538e-01,  -3.58168436e-01,   7.19436051e-01,\n",
       "        -1.31871494e-01,  -4.12048660e-01,  -9.95433590e-02,\n",
       "        -1.03705926e+00,   4.50034929e-01,  -2.55895525e-03,\n",
       "         1.10737367e+00,  -1.01550717e+00,  -9.07746724e-01,\n",
       "        -1.57586151e+00,   2.02333748e+00,   8.91852769e-01,\n",
       "         1.05201493e-01,   1.89931345e-02,   1.48305673e-01,\n",
       "        -4.98257019e-01,  -2.28855897e-01,   5.47019333e-01,\n",
       "        -3.68944481e-01,  -1.53423583e-01,  -1.05861135e+00,\n",
       "        -1.12326762e+00,   9.45732993e-01,  -1.05861135e+00,\n",
       "         1.89931345e-02,  -9.07746724e-01,  -7.79912693e-02,\n",
       "        -1.05861135e+00,   1.54919151e+00,  -9.95433590e-02,\n",
       "        -1.37111665e+00,  -1.93147099e+00,  -3.90496570e-01,\n",
       "        -7.46106051e-01,  -4.65928885e-01,   2.91774920e+00,\n",
       "         9.34956948e-01,   1.26753583e-01,  -7.89210231e-01,\n",
       "        -3.79720526e-01,   4.05452242e-02,   2.97691794e-02,\n",
       "        -1.00473113e+00])"
      ]
     },
     "execution_count": 5,
     "metadata": {},
     "output_type": "execute_result"
    }
   ],
   "source": [
    "y_train = y_train.ravel()\n",
    "y_test = y_test.ravel()\n",
    "y_train"
   ]
  },
  {
   "cell_type": "markdown",
   "metadata": {},
   "source": [
    "## Step3 訓練與預測"
   ]
  },
  {
   "cell_type": "code",
   "execution_count": 6,
   "metadata": {},
   "outputs": [
    {
     "name": "stdout",
     "output_type": "stream",
     "text": [
      "[-0.34500432 -1.23533524 -1.25462523 -0.60293702 -0.0330217  -0.18556008\n",
      "  1.1177844  -0.81048078  0.28485659 -0.19413807  0.3606654   1.24166678\n",
      " -1.82134886  0.09026404 -1.74174867  0.11498961 -0.69491951 -0.63922632\n",
      "  0.91124334 -0.19623126 -1.29095911 -0.7989655  -0.89402744 -0.70292723\n",
      "  0.95860969 -1.21944654  0.13513391  0.17461006 -1.30693244  1.09427519\n",
      " -0.83218209  0.25379401 -2.07128713 -0.57200772  0.57749427  1.09089651\n",
      "  0.23918729 -1.87410259 -0.52459263  0.39416606 -0.77055417 -1.14951794\n",
      "  0.83452979 -1.06221481  0.56496771 -0.35946162 -0.47577697 -0.56424051\n",
      "  0.27454263 -0.4052508  -0.66780617  1.27431825 -1.31270032 -0.91793512\n",
      "  0.12692247 -0.7541031   0.25327483 -1.3342555  -0.14814413  0.07663348\n",
      " -0.5470557  -0.54128125  1.3879567  -0.13950679 -0.6226309   0.20033115\n",
      "  0.48880067 -2.55276515 -0.95650778  0.66432403 -0.16331456 -0.52197557\n",
      " -1.18417151  0.15797875 -0.60208625  1.61793398 -0.46950632 -2.3809819\n",
      " -0.72385642  0.23726564 -0.17150121 -1.45258133 -0.63695862 -0.12642263\n",
      " -0.14868591 -0.24713661  1.85538517 -0.84702508  2.15330162  0.75519951\n",
      "  0.79241891 -0.50668221 -1.08313951 -1.37048884 -0.9985308   0.84235684\n",
      " -0.0551894  -0.15315452 -0.67532679 -0.46369989 -0.84479533 -0.22369726\n",
      "  0.73639344  0.36889142 -1.61813332 -1.02381264 -2.33242283  0.46972565\n",
      " -1.01380837  0.54518004 -0.22098935 -1.1524458  -0.92567534  0.21977179\n",
      "  0.64306202  0.00794889  0.01679124 -0.05950502  0.70269117 -0.39778388\n",
      "  0.21406882 -0.43805862 -0.85407242 -0.0358557  -0.05266931 -1.24266529\n",
      "  1.34806437]\n"
     ]
    }
   ],
   "source": [
    "# 使用 SVR linear kernel 進行預測\n",
    "from sklearn.svm import SVR\n",
    "linear_svr = SVR(kernel = 'linear')\n",
    "linear_svr.fit(X_train, y_train)\n",
    "linear_svr_y_predict = linear_svr.predict(X_test)\n",
    "print(linear_svr_y_predict)"
   ]
  },
  {
   "cell_type": "code",
   "execution_count": 7,
   "metadata": {},
   "outputs": [],
   "source": [
    "# 使用 SVR polynomial kernel 進行預測\n",
    "poly_svr = SVR(kernel = 'poly')\n",
    "poly_svr.fit(X_train, y_train)\n",
    "poly_svr_y_predict = poly_svr.predict(X_test)"
   ]
  },
  {
   "cell_type": "code",
   "execution_count": 8,
   "metadata": {},
   "outputs": [],
   "source": [
    "# 使用 SVR Radial basis function kernel 進行預測\n",
    "rbf_svr = SVR(kernel = 'rbf')\n",
    "rbf_svr.fit(X_train, y_train)\n",
    "rbf_svr_y_predict = rbf_svr.predict(X_test)"
   ]
  },
  {
   "cell_type": "markdown",
   "metadata": {},
   "source": [
    "## Step4 評估"
   ]
  },
  {
   "cell_type": "code",
   "execution_count": 9,
   "metadata": {},
   "outputs": [
    {
     "name": "stdout",
     "output_type": "stream",
     "text": [
      "('The value of default measurement of Linear SVR is', 0.65171709742960804)\n",
      "('The value of R-squared of Linear SVR is', 0.65171709742960804)\n",
      "('The mean squared error of Linear SVR is', 27.006307139324299)\n"
     ]
    }
   ],
   "source": [
    "# SVR linear kernel 評估準確度\n",
    "from sklearn.metrics import r2_score, mean_squared_error\n",
    "print('The value of default measurement of Linear SVR is', linear_svr.score(X_test, y_test))\n",
    "print('The value of R-squared of Linear SVR is', r2_score(y_test, linear_svr_y_predict))\n",
    "print('The mean squared error of Linear SVR is', mean_squared_error(ss_y.inverse_transform(y_test), ss_y.inverse_transform(linear_svr_y_predict)))"
   ]
  },
  {
   "cell_type": "code",
   "execution_count": 10,
   "metadata": {},
   "outputs": [
    {
     "name": "stdout",
     "output_type": "stream",
     "text": [
      "('The value of default measurement of Poly SVR is', 0.40445405800289286)\n",
      "('The value of R-squared of Poly SVR is', 0.40445405800289291)\n",
      "('The mean squared error of Poly SVR is', 46.179403313952299)\n"
     ]
    }
   ],
   "source": [
    "# SVR polynomial kernel 評估準確度\n",
    "print('The value of default measurement of Poly SVR is', poly_svr.score(X_test, y_test))\n",
    "print('The value of R-squared of Poly SVR is', r2_score(y_test, poly_svr_y_predict))\n",
    "print('The mean squared error of Poly SVR is', mean_squared_error(ss_y.inverse_transform(y_test), ss_y.inverse_transform(poly_svr_y_predict)))"
   ]
  },
  {
   "cell_type": "code",
   "execution_count": 11,
   "metadata": {},
   "outputs": [
    {
     "name": "stdout",
     "output_type": "stream",
     "text": [
      "('The value of default measurement of RBF SVR is', 0.75640689122739346)\n",
      "('The value of R-squared of RBF SVR is', 0.75640689122739346)\n",
      "('The mean squared error of RBF SVR is', 18.888525000753493)\n"
     ]
    }
   ],
   "source": [
    "# SVR Radial basis function kernel 評估準確度\n",
    "print('The value of default measurement of RBF SVR is', rbf_svr.score(X_test, y_test))\n",
    "print('The value of R-squared of RBF SVR is', r2_score(y_test, rbf_svr_y_predict))\n",
    "print('The mean squared error of RBF SVR is', mean_squared_error(ss_y.inverse_transform(y_test), ss_y.inverse_transform(rbf_svr_y_predict)))"
   ]
  },
  {
   "cell_type": "markdown",
   "metadata": {},
   "source": [
    "## Cross Validation 技巧"
   ]
  },
  {
   "cell_type": "code",
   "execution_count": 12,
   "metadata": {},
   "outputs": [
    {
     "name": "stdout",
     "output_type": "stream",
     "text": [
      "[ 0.84721361  0.8060778   0.71554159  0.86009238  0.86583531]\n",
      "Accuracy: 0.82 (+/- 0.11)\n"
     ]
    }
   ],
   "source": [
    "from sklearn.model_selection import cross_val_score\n",
    "rbf_svr1 = SVR(kernel='rbf')\n",
    "scores = cross_val_score(rbf_svr1, X_train, y_train, cv=5)\n",
    "print(scores)\n",
    "print(\"Accuracy: %0.2f (+/- %0.2f)\" % (scores.mean(), scores.std() * 2))"
   ]
  },
  {
   "cell_type": "code",
   "execution_count": 13,
   "metadata": {},
   "outputs": [
    {
     "name": "stdout",
     "output_type": "stream",
     "text": [
      "[ 0.80909537  0.82899498  0.75576345  0.90190047  0.8935655 ]\n",
      "Accuracy: 0.84 (+/- 0.11)\n"
     ]
    }
   ],
   "source": [
    "rbf_svr2 = SVR(kernel='rbf', C=2)\n",
    "scores = cross_val_score(rbf_svr2, X_train, y_train, cv=5)\n",
    "print(scores)\n",
    "print(\"Accuracy: %0.2f (+/- %0.2f)\" % (scores.mean(), scores.std() * 2))"
   ]
  },
  {
   "cell_type": "code",
   "execution_count": 14,
   "metadata": {},
   "outputs": [
    {
     "name": "stdout",
     "output_type": "stream",
     "text": [
      "[ 0.84291141  0.83911851  0.79038852  0.92475129  0.90329718]\n",
      "Accuracy: 0.86 (+/- 0.10)\n"
     ]
    }
   ],
   "source": [
    "rbf_svr3 = SVR(kernel='rbf', C=3)\n",
    "scores = cross_val_score(rbf_svr3, X_train, y_train, cv=5)\n",
    "print(scores)\n",
    "print(\"Accuracy: %0.2f (+/- %0.2f)\" % (scores.mean(), scores.std() * 2))"
   ]
  },
  {
   "cell_type": "code",
   "execution_count": 15,
   "metadata": {},
   "outputs": [
    {
     "name": "stdout",
     "output_type": "stream",
     "text": [
      "('The value of default measurement of RBF SVR is', 0.78068864696167373)\n",
      "('The value of R-squared of RBF SVR is', 0.78068864696167384)\n",
      "('The mean squared error of RBF SVR is', 17.005686226864828)\n"
     ]
    }
   ],
   "source": [
    "rbf_svr = SVR(kernel = 'rbf', C=3)\n",
    "rbf_svr.fit(X_train, y_train)\n",
    "rbf_svr_y_predict = rbf_svr.predict(X_test)\n",
    "print('The value of default measurement of RBF SVR is', rbf_svr.score(X_test, y_test))\n",
    "print('The value of R-squared of RBF SVR is', r2_score(y_test, rbf_svr_y_predict))\n",
    "print('The mean squared error of RBF SVR is', mean_squared_error(ss_y.inverse_transform(y_test), ss_y.inverse_transform(rbf_svr_y_predict)))"
   ]
  },
  {
   "cell_type": "code",
   "execution_count": 16,
   "metadata": {},
   "outputs": [
    {
     "name": "stderr",
     "output_type": "stream",
     "text": [
      "/Users/fukuball/Projects/Hands-on-AI-Tools-env/lib/python2.7/site-packages/sklearn/grid_search.py:42: DeprecationWarning: This module was deprecated in version 0.18 in favor of the model_selection module into which all the refactored classes and functions are moved. This module will be removed in 0.20.\n",
      "  DeprecationWarning)\n",
      "[Parallel(n_jobs=1)]: Done   1 out of   1 | elapsed:    0.0s remaining:    0.0s\n"
     ]
    },
    {
     "name": "stdout",
     "output_type": "stream",
     "text": [
      "Fitting 5 folds for each of 24 candidates, totalling 120 fits\n",
      "[CV] svr__kernel=rbf, svr__C=0.01 ....................................\n",
      "[CV] ........................... svr__kernel=rbf, svr__C=0.01 -   0.0s\n",
      "[CV] svr__kernel=rbf, svr__C=0.01 ....................................\n",
      "[CV] ........................... svr__kernel=rbf, svr__C=0.01 -   0.0s\n",
      "[CV] svr__kernel=rbf, svr__C=0.01 ....................................\n",
      "[CV] ........................... svr__kernel=rbf, svr__C=0.01 -   0.0s\n",
      "[CV] svr__kernel=rbf, svr__C=0.01 ....................................\n",
      "[CV] ........................... svr__kernel=rbf, svr__C=0.01 -   0.0s\n",
      "[CV] svr__kernel=rbf, svr__C=0.01 ....................................\n",
      "[CV] ........................... svr__kernel=rbf, svr__C=0.01 -   0.0s\n",
      "[CV] svr__kernel=linear, svr__C=0.01 .................................\n",
      "[CV] ........................ svr__kernel=linear, svr__C=0.01 -   0.0s\n",
      "[CV] svr__kernel=linear, svr__C=0.01 .................................\n",
      "[CV] ........................ svr__kernel=linear, svr__C=0.01 -   0.0s\n",
      "[CV] svr__kernel=linear, svr__C=0.01 .................................\n",
      "[CV] ........................ svr__kernel=linear, svr__C=0.01 -   0.0s\n",
      "[CV] svr__kernel=linear, svr__C=0.01 .................................\n",
      "[CV] ........................ svr__kernel=linear, svr__C=0.01 -   0.0s\n",
      "[CV] svr__kernel=linear, svr__C=0.01 .................................\n",
      "[CV] ........................ svr__kernel=linear, svr__C=0.01 -   0.0s\n",
      "[CV] svr__kernel=rbf, svr__C=0.1 .....................................\n",
      "[CV] ............................ svr__kernel=rbf, svr__C=0.1 -   0.0s\n",
      "[CV] svr__kernel=rbf, svr__C=0.1 .....................................\n",
      "[CV] ............................ svr__kernel=rbf, svr__C=0.1 -   0.0s\n",
      "[CV] svr__kernel=rbf, svr__C=0.1 .....................................\n",
      "[CV] ............................ svr__kernel=rbf, svr__C=0.1 -   0.0s\n",
      "[CV] svr__kernel=rbf, svr__C=0.1 .....................................\n",
      "[CV] ............................ svr__kernel=rbf, svr__C=0.1 -   0.0s\n",
      "[CV] svr__kernel=rbf, svr__C=0.1 .....................................\n",
      "[CV] ............................ svr__kernel=rbf, svr__C=0.1 -   0.0s\n",
      "[CV] svr__kernel=linear, svr__C=0.1 ..................................\n",
      "[CV] ......................... svr__kernel=linear, svr__C=0.1 -   0.0s\n",
      "[CV] svr__kernel=linear, svr__C=0.1 ..................................\n",
      "[CV] ......................... svr__kernel=linear, svr__C=0.1 -   0.0s\n",
      "[CV] svr__kernel=linear, svr__C=0.1 ..................................\n",
      "[CV] ......................... svr__kernel=linear, svr__C=0.1 -   0.0s\n",
      "[CV] svr__kernel=linear, svr__C=0.1 ..................................\n",
      "[CV] ......................... svr__kernel=linear, svr__C=0.1 -   0.0s\n",
      "[CV] svr__kernel=linear, svr__C=0.1 ..................................\n",
      "[CV] ......................... svr__kernel=linear, svr__C=0.1 -   0.0s\n",
      "[CV] svr__kernel=rbf, svr__C=1 .......................................\n",
      "[CV] .............................. svr__kernel=rbf, svr__C=1 -   0.0s\n",
      "[CV] svr__kernel=rbf, svr__C=1 .......................................\n",
      "[CV] .............................. svr__kernel=rbf, svr__C=1 -   0.0s\n",
      "[CV] svr__kernel=rbf, svr__C=1 .......................................\n",
      "[CV] .............................. svr__kernel=rbf, svr__C=1 -   0.0s\n",
      "[CV] svr__kernel=rbf, svr__C=1 .......................................\n",
      "[CV] .............................. svr__kernel=rbf, svr__C=1 -   0.0s\n",
      "[CV] svr__kernel=rbf, svr__C=1 .......................................\n",
      "[CV] .............................. svr__kernel=rbf, svr__C=1 -   0.0s\n",
      "[CV] svr__kernel=linear, svr__C=1 ....................................\n",
      "[CV] ........................... svr__kernel=linear, svr__C=1 -   0.0s\n",
      "[CV] svr__kernel=linear, svr__C=1 ....................................\n",
      "[CV] ........................... svr__kernel=linear, svr__C=1 -   0.0s\n",
      "[CV] svr__kernel=linear, svr__C=1 ....................................\n",
      "[CV] ........................... svr__kernel=linear, svr__C=1 -   0.0s\n",
      "[CV] svr__kernel=linear, svr__C=1 ....................................\n",
      "[CV] ........................... svr__kernel=linear, svr__C=1 -   0.0s\n",
      "[CV] svr__kernel=linear, svr__C=1 ....................................\n",
      "[CV] ........................... svr__kernel=linear, svr__C=1 -   0.0s\n",
      "[CV] svr__kernel=rbf, svr__C=2 .......................................\n",
      "[CV] .............................. svr__kernel=rbf, svr__C=2 -   0.0s\n",
      "[CV] svr__kernel=rbf, svr__C=2 .......................................\n",
      "[CV] .............................. svr__kernel=rbf, svr__C=2 -   0.0s\n",
      "[CV] svr__kernel=rbf, svr__C=2 .......................................\n",
      "[CV] .............................. svr__kernel=rbf, svr__C=2 -   0.0s\n",
      "[CV] svr__kernel=rbf, svr__C=2 .......................................\n",
      "[CV] .............................. svr__kernel=rbf, svr__C=2 -   0.0s\n",
      "[CV] svr__kernel=rbf, svr__C=2 .......................................\n",
      "[CV] .............................. svr__kernel=rbf, svr__C=2 -   0.0s\n",
      "[CV] svr__kernel=linear, svr__C=2 ....................................\n",
      "[CV] ........................... svr__kernel=linear, svr__C=2 -   0.0s\n",
      "[CV] svr__kernel=linear, svr__C=2 ....................................\n",
      "[CV] ........................... svr__kernel=linear, svr__C=2 -   0.0s\n",
      "[CV] svr__kernel=linear, svr__C=2 ....................................\n",
      "[CV] ........................... svr__kernel=linear, svr__C=2 -   0.0s\n",
      "[CV] svr__kernel=linear, svr__C=2 ....................................\n",
      "[CV] ........................... svr__kernel=linear, svr__C=2 -   0.0s\n",
      "[CV] svr__kernel=linear, svr__C=2 ....................................\n",
      "[CV] ........................... svr__kernel=linear, svr__C=2 -   0.0s\n",
      "[CV] svr__kernel=rbf, svr__C=3 .......................................\n",
      "[CV] .............................. svr__kernel=rbf, svr__C=3 -   0.0s\n",
      "[CV] svr__kernel=rbf, svr__C=3 .......................................\n",
      "[CV] .............................. svr__kernel=rbf, svr__C=3 -   0.0s\n",
      "[CV] svr__kernel=rbf, svr__C=3 .......................................\n",
      "[CV] .............................. svr__kernel=rbf, svr__C=3 -   0.0s\n",
      "[CV] svr__kernel=rbf, svr__C=3 .......................................\n",
      "[CV] .............................. svr__kernel=rbf, svr__C=3 -   0.0s\n",
      "[CV] svr__kernel=rbf, svr__C=3 .......................................\n",
      "[CV] .............................. svr__kernel=rbf, svr__C=3 -   0.0s\n",
      "[CV] svr__kernel=linear, svr__C=3 ....................................\n",
      "[CV] ........................... svr__kernel=linear, svr__C=3 -   0.0s\n",
      "[CV] svr__kernel=linear, svr__C=3 ....................................\n",
      "[CV] ........................... svr__kernel=linear, svr__C=3 -   0.0s\n",
      "[CV] svr__kernel=linear, svr__C=3 ....................................\n",
      "[CV] ........................... svr__kernel=linear, svr__C=3 -   0.0s\n",
      "[CV] svr__kernel=linear, svr__C=3 ....................................\n",
      "[CV] ........................... svr__kernel=linear, svr__C=3 -   0.0s\n",
      "[CV] svr__kernel=linear, svr__C=3 ....................................\n",
      "[CV] ........................... svr__kernel=linear, svr__C=3 -   0.0s\n",
      "[CV] svr__kernel=rbf, svr__C=4 .......................................\n",
      "[CV] .............................. svr__kernel=rbf, svr__C=4 -   0.0s\n",
      "[CV] svr__kernel=rbf, svr__C=4 .......................................\n",
      "[CV] .............................. svr__kernel=rbf, svr__C=4 -   0.0s\n",
      "[CV] svr__kernel=rbf, svr__C=4 .......................................\n",
      "[CV] .............................. svr__kernel=rbf, svr__C=4 -   0.0s\n",
      "[CV] svr__kernel=rbf, svr__C=4 .......................................\n",
      "[CV] .............................. svr__kernel=rbf, svr__C=4 -   0.0s\n",
      "[CV] svr__kernel=rbf, svr__C=4 .......................................\n",
      "[CV] .............................. svr__kernel=rbf, svr__C=4 -   0.0s\n",
      "[CV] svr__kernel=linear, svr__C=4 ....................................\n",
      "[CV] ........................... svr__kernel=linear, svr__C=4 -   0.1s\n",
      "[CV] svr__kernel=linear, svr__C=4 ....................................\n",
      "[CV] ........................... svr__kernel=linear, svr__C=4 -   0.1s\n",
      "[CV] svr__kernel=linear, svr__C=4 ....................................\n",
      "[CV] ........................... svr__kernel=linear, svr__C=4 -   0.0s\n",
      "[CV] svr__kernel=linear, svr__C=4 ....................................\n",
      "[CV] ........................... svr__kernel=linear, svr__C=4 -   0.1s\n",
      "[CV] svr__kernel=linear, svr__C=4 ....................................\n"
     ]
    },
    {
     "name": "stdout",
     "output_type": "stream",
     "text": [
      "[CV] ........................... svr__kernel=linear, svr__C=4 -   0.1s\n",
      "[CV] svr__kernel=rbf, svr__C=5 .......................................\n",
      "[CV] .............................. svr__kernel=rbf, svr__C=5 -   0.0s\n",
      "[CV] svr__kernel=rbf, svr__C=5 .......................................\n",
      "[CV] .............................. svr__kernel=rbf, svr__C=5 -   0.0s\n",
      "[CV] svr__kernel=rbf, svr__C=5 .......................................\n",
      "[CV] .............................. svr__kernel=rbf, svr__C=5 -   0.0s\n",
      "[CV] svr__kernel=rbf, svr__C=5 .......................................\n",
      "[CV] .............................. svr__kernel=rbf, svr__C=5 -   0.0s\n",
      "[CV] svr__kernel=rbf, svr__C=5 .......................................\n",
      "[CV] .............................. svr__kernel=rbf, svr__C=5 -   0.0s\n",
      "[CV] svr__kernel=linear, svr__C=5 ....................................\n",
      "[CV] ........................... svr__kernel=linear, svr__C=5 -   0.0s\n",
      "[CV] svr__kernel=linear, svr__C=5 ....................................\n",
      "[CV] ........................... svr__kernel=linear, svr__C=5 -   0.1s\n",
      "[CV] svr__kernel=linear, svr__C=5 ....................................\n",
      "[CV] ........................... svr__kernel=linear, svr__C=5 -   0.1s\n",
      "[CV] svr__kernel=linear, svr__C=5 ....................................\n",
      "[CV] ........................... svr__kernel=linear, svr__C=5 -   0.1s\n",
      "[CV] svr__kernel=linear, svr__C=5 ....................................\n",
      "[CV] ........................... svr__kernel=linear, svr__C=5 -   0.1s\n",
      "[CV] svr__kernel=rbf, svr__C=6 .......................................\n",
      "[CV] .............................. svr__kernel=rbf, svr__C=6 -   0.0s\n",
      "[CV] svr__kernel=rbf, svr__C=6 .......................................\n",
      "[CV] .............................. svr__kernel=rbf, svr__C=6 -   0.0s\n",
      "[CV] svr__kernel=rbf, svr__C=6 .......................................\n",
      "[CV] .............................. svr__kernel=rbf, svr__C=6 -   0.0s\n",
      "[CV] svr__kernel=rbf, svr__C=6 .......................................\n",
      "[CV] .............................. svr__kernel=rbf, svr__C=6 -   0.0s\n",
      "[CV] svr__kernel=rbf, svr__C=6 .......................................\n",
      "[CV] .............................. svr__kernel=rbf, svr__C=6 -   0.0s\n",
      "[CV] svr__kernel=linear, svr__C=6 ....................................\n",
      "[CV] ........................... svr__kernel=linear, svr__C=6 -   0.1s\n",
      "[CV] svr__kernel=linear, svr__C=6 ....................................\n",
      "[CV] ........................... svr__kernel=linear, svr__C=6 -   0.1s\n",
      "[CV] svr__kernel=linear, svr__C=6 ....................................\n",
      "[CV] ........................... svr__kernel=linear, svr__C=6 -   0.1s\n",
      "[CV] svr__kernel=linear, svr__C=6 ....................................\n",
      "[CV] ........................... svr__kernel=linear, svr__C=6 -   0.1s\n",
      "[CV] svr__kernel=linear, svr__C=6 ....................................\n",
      "[CV] ........................... svr__kernel=linear, svr__C=6 -   0.1s\n",
      "[CV] svr__kernel=rbf, svr__C=7 .......................................\n",
      "[CV] .............................. svr__kernel=rbf, svr__C=7 -   0.0s\n",
      "[CV] svr__kernel=rbf, svr__C=7 .......................................\n",
      "[CV] .............................. svr__kernel=rbf, svr__C=7 -   0.0s\n",
      "[CV] svr__kernel=rbf, svr__C=7 .......................................\n",
      "[CV] .............................. svr__kernel=rbf, svr__C=7 -   0.0s\n",
      "[CV] svr__kernel=rbf, svr__C=7 .......................................\n",
      "[CV] .............................. svr__kernel=rbf, svr__C=7 -   0.0s\n",
      "[CV] svr__kernel=rbf, svr__C=7 .......................................\n",
      "[CV] .............................. svr__kernel=rbf, svr__C=7 -   0.0s\n",
      "[CV] svr__kernel=linear, svr__C=7 ....................................\n",
      "[CV] ........................... svr__kernel=linear, svr__C=7 -   0.1s\n",
      "[CV] svr__kernel=linear, svr__C=7 ....................................\n",
      "[CV] ........................... svr__kernel=linear, svr__C=7 -   0.1s\n",
      "[CV] svr__kernel=linear, svr__C=7 ....................................\n",
      "[CV] ........................... svr__kernel=linear, svr__C=7 -   0.1s\n",
      "[CV] svr__kernel=linear, svr__C=7 ....................................\n",
      "[CV] ........................... svr__kernel=linear, svr__C=7 -   0.1s\n",
      "[CV] svr__kernel=linear, svr__C=7 ....................................\n",
      "[CV] ........................... svr__kernel=linear, svr__C=7 -   0.1s\n",
      "[CV] svr__kernel=rbf, svr__C=8 .......................................\n",
      "[CV] .............................. svr__kernel=rbf, svr__C=8 -   0.0s\n",
      "[CV] svr__kernel=rbf, svr__C=8 .......................................\n",
      "[CV] .............................. svr__kernel=rbf, svr__C=8 -   0.0s\n",
      "[CV] svr__kernel=rbf, svr__C=8 .......................................\n",
      "[CV] .............................. svr__kernel=rbf, svr__C=8 -   0.0s\n",
      "[CV] svr__kernel=rbf, svr__C=8 .......................................\n",
      "[CV] .............................. svr__kernel=rbf, svr__C=8 -   0.0s\n",
      "[CV] svr__kernel=rbf, svr__C=8 .......................................\n",
      "[CV] .............................. svr__kernel=rbf, svr__C=8 -   0.0s\n",
      "[CV] svr__kernel=linear, svr__C=8 ....................................\n",
      "[CV] ........................... svr__kernel=linear, svr__C=8 -   0.1s\n",
      "[CV] svr__kernel=linear, svr__C=8 ....................................\n",
      "[CV] ........................... svr__kernel=linear, svr__C=8 -   0.1s\n",
      "[CV] svr__kernel=linear, svr__C=8 ....................................\n",
      "[CV] ........................... svr__kernel=linear, svr__C=8 -   0.1s\n",
      "[CV] svr__kernel=linear, svr__C=8 ....................................\n",
      "[CV] ........................... svr__kernel=linear, svr__C=8 -   0.1s\n",
      "[CV] svr__kernel=linear, svr__C=8 ....................................\n",
      "[CV] ........................... svr__kernel=linear, svr__C=8 -   0.1s\n",
      "[CV] svr__kernel=rbf, svr__C=9 .......................................\n",
      "[CV] .............................. svr__kernel=rbf, svr__C=9 -   0.0s\n",
      "[CV] svr__kernel=rbf, svr__C=9 .......................................\n",
      "[CV] .............................. svr__kernel=rbf, svr__C=9 -   0.0s\n",
      "[CV] svr__kernel=rbf, svr__C=9 .......................................\n",
      "[CV] .............................. svr__kernel=rbf, svr__C=9 -   0.0s\n",
      "[CV] svr__kernel=rbf, svr__C=9 .......................................\n",
      "[CV] .............................. svr__kernel=rbf, svr__C=9 -   0.0s\n",
      "[CV] svr__kernel=rbf, svr__C=9 .......................................\n",
      "[CV] .............................. svr__kernel=rbf, svr__C=9 -   0.0s\n",
      "[CV] svr__kernel=linear, svr__C=9 ....................................\n",
      "[CV] ........................... svr__kernel=linear, svr__C=9 -   0.1s\n",
      "[CV] svr__kernel=linear, svr__C=9 ....................................\n",
      "[CV] ........................... svr__kernel=linear, svr__C=9 -   0.1s\n",
      "[CV] svr__kernel=linear, svr__C=9 ....................................\n",
      "[CV] ........................... svr__kernel=linear, svr__C=9 -   0.1s\n",
      "[CV] svr__kernel=linear, svr__C=9 ....................................\n",
      "[CV] ........................... svr__kernel=linear, svr__C=9 -   0.1s\n",
      "[CV] svr__kernel=linear, svr__C=9 ....................................\n",
      "[CV] ........................... svr__kernel=linear, svr__C=9 -   0.1s\n",
      "[CV] svr__kernel=rbf, svr__C=10 ......................................\n",
      "[CV] ............................. svr__kernel=rbf, svr__C=10 -   0.0s\n",
      "[CV] svr__kernel=rbf, svr__C=10 ......................................\n",
      "[CV] ............................. svr__kernel=rbf, svr__C=10 -   0.0s\n",
      "[CV] svr__kernel=rbf, svr__C=10 ......................................\n",
      "[CV] ............................. svr__kernel=rbf, svr__C=10 -   0.0s\n",
      "[CV] svr__kernel=rbf, svr__C=10 ......................................\n",
      "[CV] ............................. svr__kernel=rbf, svr__C=10 -   0.0s\n",
      "[CV] svr__kernel=rbf, svr__C=10 ......................................\n",
      "[CV] ............................. svr__kernel=rbf, svr__C=10 -   0.0s\n",
      "[CV] svr__kernel=linear, svr__C=10 ...................................\n",
      "[CV] .......................... svr__kernel=linear, svr__C=10 -   0.1s\n",
      "[CV] svr__kernel=linear, svr__C=10 ...................................\n",
      "[CV] .......................... svr__kernel=linear, svr__C=10 -   0.1s\n",
      "[CV] svr__kernel=linear, svr__C=10 ...................................\n",
      "[CV] .......................... svr__kernel=linear, svr__C=10 -   0.1s\n",
      "[CV] svr__kernel=linear, svr__C=10 ...................................\n"
     ]
    },
    {
     "name": "stdout",
     "output_type": "stream",
     "text": [
      "[CV] .......................... svr__kernel=linear, svr__C=10 -   0.1s\n",
      "[CV] svr__kernel=linear, svr__C=10 ...................................\n",
      "[CV] .......................... svr__kernel=linear, svr__C=10 -   0.1s\n",
      "CPU times: user 4.66 s, sys: 216 ms, total: 4.88 s\n",
      "Wall time: 4.82 s\n"
     ]
    },
    {
     "name": "stderr",
     "output_type": "stream",
     "text": [
      "[Parallel(n_jobs=1)]: Done 120 out of 120 | elapsed:    4.8s finished\n"
     ]
    },
    {
     "data": {
      "text/plain": [
       "({'svr__C': 7, 'svr__kernel': 'rbf'}, 0.879559306603956)"
      ]
     },
     "execution_count": 16,
     "metadata": {},
     "output_type": "execute_result"
    }
   ],
   "source": [
    "# 網格搜索\n",
    "from sklearn.pipeline import Pipeline\n",
    "from sklearn.grid_search import GridSearchCV\n",
    "pipls = Pipeline([('svr', SVR())])\n",
    "parameters = {'svr__kernel': ['rbf', 'linear'], 'svr__C': [0.01, 0.1, 1, 2, 3, 4, 5, 6, 7, 8, 9, 10]}\n",
    "gs = GridSearchCV(pipls, parameters, verbose=2, refit=True, cv=5)\n",
    "%time _= gs.fit(X_train,y_train)\n",
    "gs.best_params_, gs.best_score_"
   ]
  },
  {
   "cell_type": "code",
   "execution_count": 17,
   "metadata": {},
   "outputs": [
    {
     "name": "stdout",
     "output_type": "stream",
     "text": [
      "0.794745841287\n"
     ]
    }
   ],
   "source": [
    "print(gs.score(X_test, y_test))"
   ]
  },
  {
   "cell_type": "code",
   "execution_count": null,
   "metadata": {},
   "outputs": [],
   "source": []
  }
 ],
 "metadata": {
  "kernelspec": {
   "display_name": "Python 2",
   "language": "python",
   "name": "python2"
  },
  "language_info": {
   "codemirror_mode": {
    "name": "ipython",
    "version": 2
   },
   "file_extension": ".py",
   "mimetype": "text/x-python",
   "name": "python",
   "nbconvert_exporter": "python",
   "pygments_lexer": "ipython2",
   "version": "2.7.12"
  }
 },
 "nbformat": 4,
 "nbformat_minor": 2
}
