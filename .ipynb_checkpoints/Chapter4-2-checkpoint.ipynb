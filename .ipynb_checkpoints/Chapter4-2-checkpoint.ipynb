{
 "cells": [
  {
   "cell_type": "markdown",
   "metadata": {},
   "source": [
    "# LSA 潛在語意分析，使用 gensim"
   ]
  },
  {
   "cell_type": "code",
   "execution_count": 1,
   "metadata": {},
   "outputs": [],
   "source": [
    "import os\n",
    "from gensim import corpora, models, similarities\n",
    "\n",
    "dictionary = corpora.Dictionary(document.split() for document in open('data/demo_lyrics_seg.txt'))"
   ]
  },
  {
   "cell_type": "code",
   "execution_count": 2,
   "metadata": {},
   "outputs": [
    {
     "name": "stdout",
     "output_type": "stream",
     "text": [
      "Dictionary(12 unique tokens: [u'\\u5feb\\u6a02', u'\\u5de7\\u514b\\u529b', u'\\u7406\\u60f3', u'\\u5496\\u5561', u'\\u98db\\u7fd4']...)\n"
     ]
    }
   ],
   "source": [
    "print(dictionary)"
   ]
  },
  {
   "cell_type": "code",
   "execution_count": 3,
   "metadata": {},
   "outputs": [
    {
     "name": "stdout",
     "output_type": "stream",
     "text": [
      "[['\\xe5\\xb7\\xa7\\xe5\\x85\\x8b\\xe5\\x8a\\x9b', '\\xe4\\xb8\\x96\\xe7\\x95\\x8c', '\\xe9\\xa2\\xa8\\xe6\\x99\\xaf'], ['\\xe6\\x84\\x9b\\xe6\\x83\\x85', '\\xe7\\x94\\x9c\\xe7\\xbe\\x8e', '\\xe7\\x90\\x86\\xe6\\x83\\xb3', '\\xe5\\xb7\\xa7\\xe5\\x85\\x8b\\xe5\\x8a\\x9b', '\\xe5\\xbf\\xab\\xe6\\xa8\\x82', '\\xe6\\xbb\\x8b\\xe5\\x91\\xb3'], ['\\xe4\\xb8\\x96\\xe7\\x95\\x8c', '\\xe6\\x84\\x9b\\xe6\\x83\\x85', '\\xe5\\x92\\x96\\xe5\\x95\\xa1', '\\xe7\\x94\\x9c\\xe7\\xbe\\x8e'], ['\\xe6\\x84\\x9b\\xe6\\x83\\x85', '\\xe9\\xa2\\xa8\\xe6\\x99\\xaf', '\\xe6\\x84\\x9b\\xe6\\x83\\x85', '\\xe5\\x92\\x96\\xe5\\x95\\xa1'], ['\\xe6\\x84\\x9b\\xe6\\x83\\x85', '\\xe6\\xbb\\x8b\\xe5\\x91\\xb3', '\\xe7\\x94\\x9c\\xe7\\xbe\\x8e'], ['\\xe5\\xa4\\xa2\\xe6\\x83\\xb3'], ['\\xe9\\x99\\xbd\\xe5\\x85\\x89', '\\xe5\\xa4\\xa2\\xe6\\x83\\xb3'], ['\\xe9\\x99\\xbd\\xe5\\x85\\x89', '\\xe9\\xa3\\x9b\\xe7\\xbf\\x94', '\\xe5\\xa4\\xa2\\xe6\\x83\\xb3'], ['\\xe9\\x99\\xbd\\xe5\\x85\\x89', '\\xe7\\x90\\x86\\xe6\\x83\\xb3', '\\xe9\\xa3\\x9b\\xe7\\xbf\\x94']]\n"
     ]
    }
   ],
   "source": [
    "texts = [[word for word in document.split()]\n",
    "         for document in open('data/demo_lyrics_seg.txt')]\n",
    "print(texts)"
   ]
  },
  {
   "cell_type": "code",
   "execution_count": 4,
   "metadata": {},
   "outputs": [],
   "source": [
    "corpus = [dictionary.doc2bow(text) for text in texts]"
   ]
  },
  {
   "cell_type": "code",
   "execution_count": 5,
   "metadata": {},
   "outputs": [],
   "source": [
    "lsi = models.LsiModel(corpus, id2word=dictionary, num_topics=2)"
   ]
  },
  {
   "cell_type": "code",
   "execution_count": 6,
   "metadata": {},
   "outputs": [
    {
     "name": "stdout",
     "output_type": "stream",
     "text": [
      "debug 0\n",
      "[(u'\\u611b\\u60c5', 0.71487716371695065), (u'\\u751c\\u7f8e', 0.40030631824144647), (u'\\u5496\\u5561', 0.28652980644694653), (u'\\u6ecb\\u5473', 0.27106193453225208), (u'\\u5de7\\u514b\\u529b', 0.20578482989003305), (u'\\u98a8\\u666f', 0.2054654501598264), (u'\\u4e16\\u754c', 0.17742441113126861), (u'\\u7406\\u60f3', 0.17601679042327215), (u'\\u5feb\\u6a02', 0.15760480246795897), (u'\\u967d\\u5149', 0.025863037818709442), (u'\\u98db\\u7fd4', 0.023082088626059077), (u'\\u5922\\u60f3', 0.0081152410401323181)]\n",
      "debug 1\n",
      "[(u'\\u967d\\u5149', 0.64890367236816182), (u'\\u5922\\u60f3', 0.51440997789451492), (u'\\u98db\\u7fd4', 0.46806292653010773), (u'\\u7406\\u60f3', 0.26261538395779477), (u'\\u611b\\u60c5', -0.091245447220822312), (u'\\u5496\\u5561', -0.08266531741017763), (u'\\u98a8\\u666f', -0.060709996377469981), (u'\\u5feb\\u6a02', 0.048155049319669775), (u'\\u6ecb\\u5473', 0.042076791584799655), (u'\\u4e16\\u754c', -0.042061470996758846), (u'\\u5de7\\u514b\\u529b', 0.038101974337644159), (u'\\u751c\\u7f8e', 0.010068395570066236)]\n",
      "topic 1\n",
      "愛情\n",
      "0.714877163717\n",
      "甜美\n",
      "0.400306318241\n",
      "咖啡\n",
      "0.286529806447\n",
      "滋味\n",
      "0.271061934532\n",
      "巧克力\n",
      "0.20578482989\n",
      "風景\n",
      "0.20546545016\n",
      "世界\n",
      "0.177424411131\n",
      "理想\n",
      "0.176016790423\n",
      "快樂\n",
      "0.157604802468\n",
      "陽光\n",
      "0.0258630378187\n",
      "飛翔\n",
      "0.0230820886261\n",
      "夢想\n",
      "0.00811524104013\n",
      "topic 2\n",
      "陽光\n",
      "0.648903672368\n",
      "夢想\n",
      "0.514409977895\n",
      "飛翔\n",
      "0.46806292653\n",
      "理想\n",
      "0.262615383958\n",
      "愛情\n",
      "-0.0912454472208\n",
      "咖啡\n",
      "-0.0826653174102\n",
      "風景\n",
      "-0.0607099963775\n",
      "快樂\n",
      "0.0481550493197\n",
      "滋味\n",
      "0.0420767915848\n",
      "世界\n",
      "-0.0420614709968\n",
      "巧克力\n",
      "0.0381019743376\n",
      "甜美\n",
      "0.0100683955701\n"
     ]
    }
   ],
   "source": [
    "print('debug 0')\n",
    "print(lsi.show_topic(0, topn=12))\n",
    "print('debug 1')\n",
    "print(lsi.show_topic(1, topn=12))\n",
    "print('topic 1')\n",
    "for term in lsi.show_topic(0, topn=12):\n",
    "    print(term[0])\n",
    "    print(term[1])\n",
    "print('topic 2')\n",
    "for term in lsi.show_topic(1, topn=12):\n",
    "    print(term[0])\n",
    "    print(term[1])"
   ]
  },
  {
   "cell_type": "code",
   "execution_count": 7,
   "metadata": {},
   "outputs": [],
   "source": [
    "doc = \"巧克力 世界 風景\"\n",
    "vec_bow = dictionary.doc2bow(doc.lower().split())\n",
    "vec_lsi = lsi[vec_bow]"
   ]
  },
  {
   "cell_type": "code",
   "execution_count": 8,
   "metadata": {},
   "outputs": [
    {
     "name": "stdout",
     "output_type": "stream",
     "text": [
      "[(0, 0.99999994), (2, 0.99979514), (3, 0.99828625), (4, 0.99670351), (1, 0.96405917), (8, 0.052201528), (7, -0.074385986), (6, -0.080131441), (5, -0.093506016)]\n"
     ]
    }
   ],
   "source": [
    "index = similarities.MatrixSimilarity(lsi[corpus], num_features=12)\n",
    "sims = index[vec_lsi]\n",
    "sims = sorted(enumerate(sims), key=lambda item: -item[1])\n",
    "print(sims[:9])"
   ]
  },
  {
   "cell_type": "code",
   "execution_count": 9,
   "metadata": {},
   "outputs": [
    {
     "name": "stdout",
     "output_type": "stream",
     "text": [
      "[(2, 0.99999636), (0, 0.99984622), (3, 0.99915886), (4, 0.99512786), (1, 0.95925266), (8, 0.034684129), (7, -0.091859251), (6, -0.09759602), (5, -0.1109481)]\n"
     ]
    }
   ],
   "source": [
    "doc = \"愛情\"\n",
    "vec_bow = dictionary.doc2bow(doc.lower().split())\n",
    "vec_lsi = lsi[vec_bow]\n",
    "index = similarities.MatrixSimilarity(lsi[corpus], num_features=12)\n",
    "sims = index[vec_lsi]\n",
    "sims = sorted(enumerate(sims), key=lambda item: -item[1])\n",
    "print(sims[:9])"
   ]
  },
  {
   "cell_type": "markdown",
   "metadata": {},
   "source": [
    "## 實戰"
   ]
  },
  {
   "cell_type": "code",
   "execution_count": 10,
   "metadata": {},
   "outputs": [],
   "source": [
    "input_train_data_file = 'data/lyrics_word_net.dataset'\n",
    "stop_word_file = 'data/stop_words.txt'\n",
    "\n",
    "with open(stop_word_file) as f:\n",
    "    stop_word_content = f.readlines()\n",
    "stop_word_content = [x.strip() for x in stop_word_content]\n",
    "stop_word_content = \" \".join(stop_word_content)\n",
    "\n",
    "dictionary = corpora.Dictionary(document.split() for document in open(input_train_data_file))\n",
    "stoplist = set(stop_word_content.split())\n",
    "stop_ids = [dictionary.token2id[stopword] for stopword in stoplist\n",
    "            if stopword in dictionary.token2id]\n",
    "dictionary.filter_tokens(stop_ids)\n",
    "dictionary.compactify()\n",
    "\n",
    "texts = [[word for word in document.split() if word not in stoplist]\n",
    "         for document in open(input_train_data_file)]"
   ]
  },
  {
   "cell_type": "code",
   "execution_count": 11,
   "metadata": {},
   "outputs": [],
   "source": [
    "# remove words that appear only once\n",
    "from collections import defaultdict\n",
    "frequency = defaultdict(int)\n",
    "for text in texts:\n",
    "    for token in text:\n",
    "        frequency[token] += 1\n",
    "\n",
    "texts = [[token for token in text if frequency[token] >= 1]\n",
    "         for text in texts]\n",
    "\n",
    "corpus = [dictionary.doc2bow(text) for text in texts]"
   ]
  },
  {
   "cell_type": "code",
   "execution_count": 12,
   "metadata": {},
   "outputs": [],
   "source": [
    "lsi = models.LsiModel(corpus, id2word=dictionary, num_topics=28)"
   ]
  },
  {
   "cell_type": "code",
   "execution_count": 13,
   "metadata": {},
   "outputs": [
    {
     "name": "stdout",
     "output_type": "stream",
     "text": [
      "[(206, 0.99749881), (204, 0.95845628), (201, 0.9544673), (184, 0.94549829), (216, 0.93992543)]\n"
     ]
    }
   ],
   "source": [
    "doc = \"沒有 山 不能 跨越 沒有 海 不能 冒險 讓 歷史 記得 這 一天 當我 用心 立下 諾言 沒有 事 不能 改變 沒有 夢 不能 實現 我 站 在 未來 最 前線 抬頭 迎接 每個 考驗 海闊天空 是 我 的 地圖 想 寫下 全新 紀錄 放眼 天下 在 等 我 去 征服 用 熱血 燃燒 黑夜 等待 最 燦爛 的 日出 看 陽光 與 我 賽跑 風雨 和 我 狂飆 我 的 驕傲 自己 打造 每個 夢 永遠 比天 高 一顆 心 為 希望 在 跳躍 讓 世界 為 我 歡呼 大地 為 我 炫耀 我 的 驕傲 你 會 看到 汗 和 淚 痛苦 的 煎熬 在 這 一刻 都 是 我 光榮 的 記號 海闊天空 是 我 的 地圖 想 寫下 全新 紀錄 放眼 天下 在 等 我 去 征服 用 熱血 燃燒 黑夜 等待 最 燦爛 的 日出 看 陽光 與 我 賽跑 風雨 和 我 狂飆 我 的 驕傲 自己 打造 每個 夢 永遠 比天 高 一顆 心 為 希望 在 跳躍 讓 世界 為 我 歡呼 大地 為 我 炫耀 我 的 驕傲 你 會 看到 汗 和 淚 ~ 痛苦 的 煎熬 在 這 一刻 都 是 我 ~ 光榮 的 記號 看 陽光 與 我 賽跑 風雨 和 我 狂飆 我 的 驕傲 自己 打造 每個 夢 ~ 永遠 比天 高 一顆 心 ~ 為 希望 在 跳躍 在 跳躍 ) 讓 世界 為 我 歡呼 大地 為 我 炫耀 我 的 驕傲 你 會 看到 你 會 看到 汗 和 淚 痛苦 的 煎熬 在 這 一刻 都 是 我 光榮 的 記號\"\n",
    "vec_bow = dictionary.doc2bow(doc.lower().split())\n",
    "vec_lsi = lsi[vec_bow]\n",
    "\n",
    "index = similarities.MatrixSimilarity(lsi[corpus], num_features=100)\n",
    "sims = index[vec_lsi]\n",
    "sims = sorted(enumerate(sims), key=lambda item: -item[1])\n",
    "print(sims[:5])"
   ]
  },
  {
   "cell_type": "code",
   "execution_count": 14,
   "metadata": {},
   "outputs": [
    {
     "name": "stdout",
     "output_type": "stream",
     "text": [
      "\n",
      "相似歌詞： 沒有 山 不能 跨越 沒有 海 不能 冒險 讓 歷史 記得 這 一天 當我 用心 立下 諾言 沒有 事 不能 改變 沒有 夢 不能 實現 我 站 在 未來 最 前線 抬頭 迎接 每個 考驗 海闊天空 是 我 的 地圖 想 寫 全新 紀錄 放眼 天下 在 等 我 去 征服 用 熱血 燃燒 黑夜 等 最 燦爛 的 日出 看 陽光 與 我 賽跑 風雨 和 我 狂奔 我 的 驕傲 自己 打造 每個 夢 永遠 比天 高 一顆 心 為 希望 在 跳躍 讓 世界 為 我 歡天喜地 大地 為 我 炫耀 我 的 驕傲 你 會 看見 汗水 和 淚水 痛苦 的 煎熬 在 這 一刻 都 是 我 光榮 的 記號 海闊天空 是 我 的 地圖 想 寫 全新 紀錄 放眼 天下 在 等 我 去 征服 用 熱血 燃燒 黑夜 等 最 燦爛 的 日出 看 陽光 與 我 賽跑 風雨 和 我 狂奔 我 的 驕傲 自己 打造 每個 夢 永遠 比天 高 一顆 心 為 希望 在 跳躍 讓 世界 為 我 歡天喜地 大地 為 我 炫耀 我 的 驕傲 你 會 看見 汗水 和 淚水 痛苦 的 煎熬 在 這 一刻 都 是 我 光榮 的 記號 看 陽光 與 我 賽跑 風雨 和 我 狂奔 我 的 驕傲 自己 打造 每個 夢 永遠 比天 高 一顆 心 為 希望 在 跳躍 在 跳躍 讓 世界 為 我 歡天喜地 大地 為 我 炫耀 我 的 驕傲 你 會 看見 你 會 看見 汗水 和 淚水 痛苦 的 煎熬 在 這 一刻 都 是 我 光榮 的 記號\n",
      "\n",
      "相似度： 0.997499\n",
      "試聽連結： http://tw.kkbox.com/song/JnBsJtc06MPXHPBIfPBIf0P4-index.html\n",
      "\n",
      "\n",
      "相似歌詞： 當 我 和 世界 不 一樣 那 就讓 我 不 一樣 執著 對 我 來說 就是 以 剛克剛 我 如果 對 自己 妥協 如果 對 自己 說謊 即使 別人 原諒 我 也 不能 原諒 最美 的 願望 一定 最 瘋狂 我 就是 我 自己 的 神 在 我活 的 地方 我 和 我 最後 的 倔強 握緊 雙手 絕對 不 放 下 一站 是不是 天堂 就算 失望 不能 絕望 我 和 我 驕傲 的 倔強 我 在 風中 大聲 的 唱 這 一次 為 自己 瘋狂 就 這 一次 我 和 我 的 倔強 對 愛我 的 人別 緊張 我 的 固執 很 善良 我 的 手越 骯髒 眼神 越是 發光 你 不在乎 我 的 過往 看見 了 我 的 翅膀 你 說 被 火燒 過 才能 出現 鳳凰 逆流 的 方向 更 適合 飛翔 我 不怕 千萬 人 阻撓 只怕 自己 投降 我 和 我 最後 的 倔強 握緊 雙手 絕對 不 放 下 一站 是不是 天堂 就算 失望 不能 絕望 我 和 我 驕傲 的 倔強 我 在 風中 大聲 的 唱 這 一次 為 自己 瘋狂 就 這 一次 我 和 我 的 倔強 我 和 我 最後 的 倔強 握緊 雙手 絕對 不 放 下 一站 是不是 天堂 就算 失望 不能 絕望 我 和 我 驕傲 的 倔強 我 在 風中 大聲 的 唱 這 一次 為 自己 瘋狂 就 這 一次 我 和 我 的 倔強 就 這 一次 讓 我 大聲 唱 啦 啦 啦 就算 失望 不能 絕望 啦 啦 啦 就 這 一次 我 和 我 的 倔強\n",
      "\n",
      "相似度： 0.958456\n",
      "試聽連結： http://tw.kkbox.com/song/0EJxi-zbwD6Pd1Kch1Kch0H4-index.html\n",
      "\n",
      "\n",
      "相似歌詞： 你 是不是 像 我 在 太陽 下 低頭 流著 汗水 靜靜 辛苦 的 工作 你 是不是 像 我 就算 受 了 冷漠 也 不 放棄 自己 想要 的 生活 你 是不是 像 我 整天 忙 著 追求 追求 一種 你 想不到 的 溫柔 你 是不是 像 我 就算 受 了 冷漠 一次 一次 徘徊 在 十字街頭 因為 我 不在乎 別人 怎麼 說 我 從來 沒有 忘記 我 對 自己 的 承諾 對愛的 執著 我 知道 我 的 未來 不是 夢 我 認真 的 過每 一分鐘 我 的 未來 不是 夢 我 的 心 跟 著 希望 在 動 我 的 未來 不是 夢 我 認真 的 過每 一分鐘 我 的 未來 不是 夢 我 的 心 跟 著 希望 在 動 跟 著 希望 在 動 你 是不是 像 我 整天 忙 著 追求 追求 一種 你 想不到 的 溫柔 你 是不是 像 我 就算 受 了 冷漠 也 不 放棄 自己 想要 的 生活 因為 我 不在乎 別人 怎麼 說 我 從來 沒有 忘記 我 對 自己 的 承諾 對愛的 執著 我 知道 我 的 未來 不是 夢 我 認真 的 過每 一分鐘 我 的 未來 不是 夢 我 的 心 跟 著 希望 在 動 我 的 未來 不是 夢 我 認真 的 過每 一分鐘 我 的 未來 不是 夢 我 的 心 跟 著 希望 在 動 跟 著 希望 在 動\n",
      "\n",
      "相似度： 0.954467\n",
      "試聽連結： http://tw.kkbox.com/song/DCC6zn0SvOlPO2QDe2QDe0H4-index.html\n",
      "\n",
      "\n",
      "相似歌詞： 我 的 心內 感覺 人生 的 沉重 不敢 來 振動 我 不是 好子 嘛 不是 歹人 我 只是 愛眠 夢 我 不願 隨浪 隨風 飄浪 西東 像 船無港 我 不願 做人 奸巧 鑽縫 甘願 來作 憨人 我 不是 頭腦 空蕩 我 不是 一隻 米蟲 人 啊 人 一 世人 要安 怎麼 歡天喜地 過 春夏秋冬 我 有 我 的 路 有 我 的 夢 夢中 的 那個 世界 甘講 伊是 一場空 我 走過 的 路 只有 希望 希望 你 我 講過 的話 放在 心肝 內 總有一天 看見 滿天 全部 金條 要 煞 無半項 環境 來 戲弄 背景 無夠強 天才 無夠 弄 逐項 是 攏 輸人 只得 看透 這 虛華 不怕 路 歹行 不怕 大雨淋 心上 一字敢 面對 我 的 夢 甘願 來作 憨人 我 不是 頭腦 空蕩 我 不是 一隻 米蟲 人 啊 人 一 世人 要安 怎麼 歡天喜地 過 春夏秋冬 我 有 我 的 路 有 我 的 夢 夢中 的 那個 世界 甘講 伊是 一場空 我 走過 的 路 只有 希望 希望 你 我 講過 的話 放在 心肝 內 總有一天 我 有 我 的 路 有 我 的 夢 夢中 的 那個 世界 甘講 伊是 一場空 我 走過 的 路 只有 希望 希望 你 我 講過 的話 放在 心肝 內 總有一天 總有一天\n",
      "\n",
      "相似度： 0.945498\n",
      "試聽連結： http://tw.kkbox.com/song/jA8Vro5MD9mSs12.Y12.Y0H4-index.html\n",
      "\n",
      "\n",
      "相似歌詞： 經過 了 漫長 的 等 夢想 是 夢想 我 還是 一個 我 那 時間 忘記 挽留 最美 時候 不經意 匆匆 的 放過 曾經 想 擁抱 的 彩虹 盛開 的 花朵 那 純純 的 笑容 突然 有 風吹 過 那 一轉眼 只 剩 我 我 不 懂 人世間 的 那些 愁 他 為 什麼 要 纏 著 我 到底 這會 是 誰 的 錯 還是 我 不 放手 喔 人世間 的 那些 愁 這 世界 給我 的 幽默 這 是不是 要 告訴 我 潮起 終於 潮落 總要 有人 來 陪伴 我 嚥下 苦果 喔 再 嚐 一些 美夢 要 等 你 先 開口 那 冬天 才 會 走 有些 人 經過 我 身邊 住 在 我 腦中 在 我心 裡 鑽洞 有些 人 變成 相片 堆 在 角落 灰塵 像 雪 一般 冰 時間 如果 可以 倒流 我 想 我 還是 會 卯起來 蹉跎 反正 就 這樣 吧 我 知道 我 努力 過 我 想 遠 遠 的 以後 會 不會 有人 知道 我 在 這個 孤單 的 星球 曾經 這樣 的 活過 喔 遠 遠 的 以後 天長 和 地久 的 盡頭 應該 沒有 人能 搶走 我 永遠 的 感動 總要 有 一首 我 的 歌 大聲 唱過 喔 再 看 天地 遼闊 活著 不多不少 幸福 剛好 夠用 活著 其實 很 好 再 吃 一顆 蘋果\n",
      "\n",
      "相似度： 0.939925\n",
      "試聽連結： http://tw.kkbox.com/song/Lp-3mrZtv.aXr3g3T3g3T0H4-index.html\n",
      "\n"
     ]
    }
   ],
   "source": [
    "lyrics = [];\n",
    "fp = open(\"data/lyrics_word_net.dataset\")\n",
    "for i, line in enumerate(fp):\n",
    "    lyrics.append(line)\n",
    "fp.close()\n",
    "\n",
    "url = [];\n",
    "fp = open(\"data/lyrics_url.dataset\")\n",
    "for i, line in enumerate(fp):\n",
    "    url.append(line)\n",
    "fp.close()\n",
    "\n",
    "for lyric in sims[:5]:\n",
    "    print \"\\n相似歌詞：\",  lyrics[lyric[0]]\n",
    "    print \"相似度：\",  lyric[1]\n",
    "    print \"試聽連結：\",  url[lyric[0]]"
   ]
  },
  {
   "cell_type": "code",
   "execution_count": 15,
   "metadata": {},
   "outputs": [
    {
     "name": "stdout",
     "output_type": "stream",
     "text": [
      "[(53, 0.99999994), (19, 0.96728575), (43, 0.96589249), (33, 0.96417892), (28, 0.95892304)]\n",
      "\n",
      "相似歌詞： 只 剩 鋼琴 陪伴 我 談 了 一天 睡著 的 大提琴 安靜 的 舊舊 的 我 想 你 已經 表現 的 非常 明瞭 我 懂 我 也 知道 你 沒有 捨不得 你 說 你 也 會 難過 我 不 相信 牽著 你 陪伴 著 我 也 只是 曾經 希望 他 是 真的 比較 我 還要 愛你 我 才 會 逼 自己 離開 你 要 我 說 多 難堪 我 根本 不想 分開 為 什麼 還要 我用 微笑 來 帶過 我 沒有 這種 天份 包容 你 也 接受 他 不用 擔心 的 太 多 我會 一直 好好 過 你 已經 遠遠 離開 我 也 會 慢慢 走開 為 什麼 我連 分開 都 遷就 著 你 我 真的 沒有 天份 安靜 的 沒 這麼 快 我會 學著 放棄 你 是 因為 我 太愛你 只 剩 鋼琴 陪伴 我 談 了 一天 睡著 的 大提琴 安靜 的 舊舊 的 我 想 你 已經 表現 的 非常 明瞭 我 懂 我 也 知道 你 沒有 捨不得 你 說 你 也 會 難過 我 不 相信 牽著 你 陪伴 著 我 也 只是 曾經 希望 他 是 真的 比較 我 還要 愛你 我 才 會 逼 自己 離開 你 要 我 說 多 難堪 我 根本 不想 分開 為 什麼 還要 我用 微笑 來 帶過 我 沒有 這種 天份 包容 你 也 接受 他 不用 擔心 的 太 多 我會 一直 好好 過 你 已經 遠遠 離開 我 也 會 慢慢 走開 為 什麼 我連 分開 都 遷就 著 你 我 真的 沒有 天份 安靜 的 沒 這麼 快 我會 學著 放棄 你 是 因為 我 太愛你 你 要 我 說 多 難堪 我 根本 不想 分開 為 什麼 還要 我用 微笑 來 帶過 我 沒有 這種 天份 包容 你 也 接受 他 不用 擔心 的 太 多 我會 一直 好好 過 你 已經 遠遠 離開 我 也 會 慢慢 走開 為 什麼 我連 分開 都 遷就 著 你 我 真的 沒有 天份 安靜 的 沒 這麼 快 我會 學著 放棄 你 是 因為 我 太愛你\n",
      "\n",
      "相似度： 1.0\n",
      "試聽連結： http://tw.kkbox.com/song/BBUKrB2EyIJXq1s-o1s-o0H4-index.html\n",
      "\n",
      "\n",
      "相似歌詞： 離開 你 是 傻 是 對 是 錯 是 看透 是 軟弱 這 結果 是 愛是 恨 或者 是 什麼 如果 是種 解脫 怎麼 會 還有 眷戀 在 我 心 那麼 愛你 為 什麼 從 女性 觀點 讓 我 明瞭 地說 無論 你 是 挖 心掏 肺 呼天搶地 或者 熱情 如火 不 只 白白 惹人討厭 讓 人 嫌 你 囉唆 恨 不得 沒 跟 你 認識 過 你講 也 講不聽 聽 又 聽不懂 懂 也 不會 做 你 做 又 做 不好 哼 你 現在 唱個 這樣 的 歌 你 到底 是 想 對 我 說 什麼 面對 陌生 疑惑 肯定 困難 的 生活 過去 的 日子 彷彿 偷偷 在 笑 我 笑 我 的 落魄 也 笑 我 的 執著 也許 吧 他 愛情 你 比較 我 多 離開 你 是 傻 是 對 是 錯 是 看透 是 軟弱 這 結果 是 愛是 恨 或者 是 什麼 如果 是種 解脫 怎麼 會 還有 眷戀 在 我 心 那麼 愛你 為 什麼 有太多 男女 就 像 你 就 像 我 年紀輕輕 開始 拍拖 純純 的 愛情 或者 天雷 地 火 眼看 卿卿我我 眼看 情 海生 波 最終 日子 還得 往 下過 你 可以 說 我 冷漠 或者 怪 我 刻薄 我 倒 想 等 著 看 你 沒 我 能 不能 活 你 現在 唱個 這樣 的 歌 你 以 為 我們 之間 還會 有 什麼 面對 陌生 疑惑 肯定 困難 的 生活 過去 的 日子 彷彿 偷偷 在 笑 我 笑 我 的 落魄 也 笑 我 的 執著 也許 吧 他 愛情 你 比較 我 多 離開 你 是 傻 是 對 是 錯 是 看透 是 軟弱 這 結果 是 愛是 恨 或者 是 什麼 如果 是種 解脫 怎麼 會 還有 眷戀 在 我 心 那麼 愛你 為 什麼 離開 你 是 傻 是 對 是 錯 是 看透 是 軟弱 這 結果 是 愛是 恨 或者 是 什麼 如果 是種 解脫 怎麼 會 還有 眷戀 在 我 心 那麼 愛你 為 什麼\n",
      "\n",
      "相似度： 0.967286\n",
      "試聽連結： http://tw.kkbox.com/song/aTGN8OmE6I9Tr1r-l1r-l0H4-index.html\n",
      "\n",
      "\n",
      "相似歌詞： 又 站 在 你家 的 門口 我們 重複 沈默 這樣 子 單方面 的 守候 還能 多久 終於 你 開口 向 我 訴說 他 有 多 溫柔 雖然 你 還握 著 我 的 手 但 我 已經 不在 你 心中 我 真的 懂 你 不是 喜新厭舊 是 我 沒有 陪伴 在 你 身邊 當你 孤單 時候 別 再 看 著 我 說 著 你 愛過 別太 傷痛 我 不 難過 這 不算什麼 只是 為 什麼 淚水 會流 我 也 不 懂 就讓 我 走 讓 我 開始 享受 自由 回憶 許多 你 的 影子 也 會 充滿 我 生活 我並 不 懦弱 你 比較 誰 都 懂 雖然 孤單 這會 是 我 最後 的 寬容 終於 你 開口 向 我 訴說 他 有 多 溫柔 雖然 你 還握 著 我 的 手 但 我 已經 不在 你 心中 我 真的 懂 你 不是 喜新厭舊 是 我 沒有 陪伴 在 你 身邊 當你 孤單 時候 別 再 看 著 我 說 著 你 愛過 別太 傷痛 我 不 難過 這 不算什麼 只是 為 什麼 淚水 會流 我 也 不 懂 就讓 我 走 讓 我 開始 享受 自由 回憶 許多 你 的 影子 也 會 充滿 我 生活 我並 不 懦弱 你 比較 誰 都 懂 雖然 孤單 這會 是 我 最後 的 寬容 抱緊 我 再 抱緊 我 這 一份 感動 請 你 讓 我 留在 胸口 別 再說 是 你 的 錯 愛到 了 盡頭 是非 對錯 就讓 它 隨風 忘記 了 所有 過得 比較 你 快樂 我 真的 懂 你 不是 喜新厭舊 是 我 沒有 陪伴 在 你 身邊 當你 孤單 時候 別 再 看 著 我 說 著 你 愛過 別太 傷痛 我 不 難過 這 不算什麼 只是 為 什麼 淚水 會流 我 也 不 懂 不要 再說 或許 這是 最好 的 結果 現在 分手 總好過 你 不愛我 一拖再拖 鬆開 你 的 手 離開 你 左右 我 向前走 這會 是 我 真正 的 解脫\n",
      "\n",
      "相似度： 0.965892\n",
      "試聽連結： http://tw.kkbox.com/song/9ud7HbLEXC.8a1FPe1FPe0H4-index.html\n",
      "\n",
      "\n",
      "相似歌詞： 時間 一秒 一秒 一秒 倒數 計時 往事 一幕 一幕 一幕 突然 靜止 你 挽著 他 他 挽著 你 向 我 走 過來 同桌 的 人 蜂擁 而 上將 你 我 隔開 我 乾杯 你 隨意 這是 個 殘忍 的 喜劇 我 的 人生 早 留在 你 那裡 我 卻 還要 故作 瀟灑 地 你 和 他 我 和 你 這是 個 諷刺 的 交集 是 你 太 殘忍 還是 我 太天真 你 要 我 來 就 真的 出席 我 的 請帖 是 你 的 喜帖 你 要 的 一切 如今 都 變成 我 的 心碎 你 總是 太 清醒 我 始終 喝不醉 連 祝 你 還逼 我給 你 的 喜帖 是 我 的 請帖 你 邀 我 舉杯 我 只能 回敬 我 的 崩潰 在場 的 都 知道 你 我 曾經 那麼 好 如今 整顆心 都 破碎 了 你 還要 我 微笑 你 和 他 我 和 你 這是 個 諷刺 的 交集 是 你 太 殘忍 還是 我 太天真 你 要 我 來 就 真的 出席 我 的 請帖 是 你 的 喜帖 你 要 的 一切 如今 都 變成 我 的 心碎 你 總是 太 清醒 我 始終 喝不醉 連 祝 你 還逼 我給 你 的 喜帖 是 我 的 請帖 你 邀 我 舉杯 我 只能 回敬 我 的 崩潰 在場 的 都 知道 你 我 曾經 那麼 好 如今 整顆心 都 破碎 了 你 還要 我 微笑 我 的 請帖 是 你 的 喜帖 你 要 的 一切 如今 都 變成 我 的 心碎 你 總是 太 清醒 我 始終 喝不醉 連 祝 你 還逼 我給 你 的 喜帖 是 我 的 請帖 你 邀 我 舉杯 我 只能 回敬 我 的 崩潰 在場 的 都 知道 你 我 曾經 那麼 好 如今 整顆心 都 破碎 了 你 還要 我 微笑\n",
      "\n",
      "相似度： 0.964179\n",
      "試聽連結： http://tw.kkbox.com/song/Ps.-X.h088m1XVPlxVPlx0P4-index.html\n",
      "\n",
      "\n",
      "相似歌詞： 斷 了 的 弦 再 怎麼 練 我 的 感覺 你 已經 聽不見 你 的 轉變 像 斷掉 的 弦 再 怎麼 接 音都 不 對 你 的 改變 我 能夠 分辨 我 沈默 你 的話 也 不 多 我們 之間 少 了 什麼 不說 哎 呦 微笑 後 表情 終於 有點 難過 握著 你 的 手 問 你 確定 了 再 走 我 突然 釋懷 的 笑 笑聲 盤旋 半山腰 隨風 在 飄搖 啊搖 來到 你 的 面前 繞 你 淚水 往下 的 掉 說會 記得 我 的 好 我 也 彎起 了 嘴角 笑 你 的 美 已經 給了 誰 追 了 又 追 我 要 不回 我 知道 離開 樹 的 葉子 屬於 地上 的 世界 凋謝 斷 了 的 弦 再彈 一遍 我 的 世界 你 不在 裡 我 的 指尖 已經 彈出 繭 還是 無法 留 你在 我 身邊 斷 了 的 弦 再 怎麼 練 我 的 感覺 你 已經 聽不見 你 的 轉變 像 斷掉 的 弦 再 怎麼 接 音都 不 對 你 的 改變 我 能夠 分辨 我 沈默 你 的話 也 不 多 我們 之間 少 了 什麼 不說 哎 呦 微笑 後 表情 終於 有點 難過 握著 你 的 手 問 你 確定 了 再 走 我 突然 釋懷 的 笑 笑聲 盤旋 半山腰 隨風 在 飄搖 啊搖 來到 你 的 面前 繞 你 淚水 往下 的 掉 說會 記得 我 的 好 我 也 彎起 了 嘴角 笑 你 的 美 已經 給了 誰 追 了 又 追 我 要 不回 我 知道 離開 樹 的 葉子 屬於 地上 的 世界 凋謝 斷 了 的 弦 再彈 一遍 我 的 世界 你 不在 裡 我 的 指尖 已經 彈出 繭 還是 無法 留 你在 我 身邊 斷 了 的 弦 再 怎麼 練 我 的 感覺 你 已經 聽不見 你 的 轉變 像 斷掉 的 弦 再 怎麼 接 音都 不 對 你 的 改變 我 能夠 分辨\n",
      "\n",
      "相似度： 0.958923\n",
      "試聽連結： http://tw.kkbox.com/song/RNWSSe0MYa9Tc3ld83ld80H4-index.html\n",
      "\n"
     ]
    }
   ],
   "source": [
    "doc = \"只 剩 鋼琴 陪伴 我 談 了 一天 睡著 的 大提琴 安靜 的 舊舊 的 我 想 你 已經 表現 的 非常 明瞭 我 懂 我 也 知道 你 沒有 捨不得 你 說 你 也 會 難過 我 不 相信 牽著 你 陪伴 著 我 也 只是 曾經 希望 他 是 真的 比較 我 還要 愛你 我 才 會 逼 自己 離開 你 要 我 說 多 難堪 我 根本 不想 分開 為 什麼 還要 我用 微笑 來 帶過 我 沒有 這種 天份 包容 你 也 接受 他 不用 擔心 的 太 多 我會 一直 好好 過 你 已經 遠遠 離開 我 也 會 慢慢 走開 為 什麼 我連 分開 都 遷就 著 你 我 真的 沒有 天份 安靜 的 沒 這麼 快 我會 學著 放棄 你 是 因為 我 太愛你 只 剩 鋼琴 陪伴 我 談 了 一天 睡著 的 大提琴 安靜 的 舊舊 的 我 想 你 已經 表現 的 非常 明瞭 我 懂 我 也 知道 你 沒有 捨不得 你 說 你 也 會 難過 我 不 相信 牽著 你 陪伴 著 我 也 只是 曾經 希望 他 是 真的 比較 我 還要 愛你 我 才 會 逼 自己 離開 你 要 我 說 多 難堪 我 根本 不想 分開 為 什麼 還要 我用 微笑 來 帶過 我 沒有 這種 天份 包容 你 也 接受 他 不用 擔心 的 太 多 我會 一直 好好 過 你 已經 遠遠 離開 我 也 會 慢慢 走開 為 什麼 我連 分開 都 遷就 著 你 我 真的 沒有 天份 安靜 的 沒 這麼 快 我會 學著 放棄 你 是 因為 我 太愛你 你 要 我 說 多 難堪 我 根本 不想 分開 為 什麼 還要 我用 微笑 來 帶過 我 沒有 這種 天份 包容 你 也 接受 他 不用 擔心 的 太 多 我會 一直 好好 過 你 已經 遠遠 離開 我 也 會 慢慢 走開 為 什麼 我連 分開 都 遷就 著 你 我 真的 沒有 天份 安靜 的 沒 這麼 快 我會 學著 放棄 你 是 因為 我 太愛你\"\n",
    "vec_bow = dictionary.doc2bow(doc.lower().split())\n",
    "vec_lsi = lsi[vec_bow]\n",
    "\n",
    "index = similarities.MatrixSimilarity(lsi[corpus], num_features=100)\n",
    "sims = index[vec_lsi]\n",
    "sims = sorted(enumerate(sims), key=lambda item: -item[1])\n",
    "print(sims[:5])\n",
    "lyrics = [];\n",
    "fp = open(\"data/lyrics_word_net.dataset\")\n",
    "for i, line in enumerate(fp):\n",
    "    lyrics.append(line)\n",
    "fp.close()\n",
    "\n",
    "url = [];\n",
    "fp = open(\"data/lyrics_url.dataset\")\n",
    "for i, line in enumerate(fp):\n",
    "    url.append(line)\n",
    "fp.close()\n",
    "\n",
    "for lyric in sims[:5]:\n",
    "    print \"\\n相似歌詞：\",  lyrics[lyric[0]]\n",
    "    print \"相似度：\",  lyric[1]\n",
    "    print \"試聽連結：\",  url[lyric[0]]"
   ]
  },
  {
   "cell_type": "code",
   "execution_count": 16,
   "metadata": {},
   "outputs": [
    {
     "name": "stdout",
     "output_type": "stream",
     "text": [
      "[(9, 0.5497849), (138, 0.44865346), (50, 0.43906888), (46, 0.43839532), (38, 0.41020232)]\n",
      "\n",
      "相似歌詞： 他 不愛我 牽手 的 時候 太 冷清 擁抱 的 時候 不夠 靠近 他 不愛我 說話 的 時候 不 認真 沈默 的 時候 又 太 用心 我 知道 他 不愛我 他 的 眼神 說出來 他 的 心 我 看透 了 他 的 心 還有 別人 逗留 的 背影 他 的 回憶 清除 得 不夠 乾淨 我 看見 了 他 的 心 演 的 全是 他 和 他 的 電影 他 不愛我 儘管如此 他 還是 贏走 了 我 的 心 我 知道 他 不愛我 他 的 眼神 說出來 他 的 心 我 看透 了 他 的 心 還有 別人 逗留 的 背影 他 的 回憶 清除 得 不夠 乾淨 我 看見 了 他 的 心 演 的 全是 他 和 他 的 電影 他 不愛我 儘管如此 他 還是 贏走 了 我 的 心 我 看透 了 他 的 心 還有 別人 逗留 的 背影 他 的 回憶 清除 得 不夠 乾淨 我 看見 了 他 的 心 演 的 全是 他 和 他 的 電影 他 不愛我 儘管如此 他 還是 贏走 了 我 的 心\n",
      "\n",
      "相似度： 0.549785\n",
      "試聽連結： http://tw.kkbox.com/song/BuRlYbjLl.-EN3fSh3fSh0H4-index.html\n",
      "\n",
      "\n",
      "相似歌詞： 一壺 成 正好 是 兩人份 的 咖啡 呀 一 屋子 芬芳 氣息 兩個 女人 見到 話題 永遠 不停 哦 關於 男人 關於 女人 和 自己 整個 世界 都 要 整理 有時 只有 跟 你 說 才 有 頭緒 男人 總不懂 女人 淚水 真誠 的 意義 女人 猜不透 男人 忽然 沈默 的 背景 有時 愛情 不如 和 你 喝咖啡 有趣 過去 的 事 想 早點 忘記 卻 愛情 回憶 下 一段 戀曲 卻 又 怕 再 傷感 我們 總是 聊 互相 的 安慰 彼此 打氣 信用卡 可以 買 到 一季 的 流行 卻 買不到 真誠 自己 只有 聽 你 說 的 分析 深入 我心 就算 是 小小的 競爭 或者 在 鬥氣 這 一切 都 不是 問題 用 一杯 咖啡 的 時間 都 能 搞定 男人 總不懂 女人 淚水 真誠 的 意義 女人 猜不透 男人 忽然 沈默 的 背景 有時 愛情 不如 和 你 喝咖啡 有趣 過去 的 事 想 早點 忘記 卻 愛情 回憶 下 一段 戀曲 卻 又 怕 再 傷感 我們 總是 聊 互相 的 安慰 彼此 打氣 下次 見面 拿杯 咖啡 時間 地點 先定 下次 見面 那些 事 沒話說 我 挺 你 耶 男人 總不懂 女人 淚水 真誠 的 意義 女人 猜不透 男人 忽然 沈默 的 背景 有時 愛情 不如 和 你 喝咖啡 有趣 男人 總不懂 女人 淚水 真誠 的 意義 女人 猜不透 男人 忽然 沈默 的 背景 有時 愛情 不如 和 你 喝咖啡 有趣 過去 的 事 想 早點 忘記 卻 愛情 回憶 下 一段 戀曲 卻 又 怕 再 傷感 我們 總是 聊 互相 的 安慰 彼此 打氣 答 啦 啦\n",
      "\n",
      "相似度： 0.448653\n",
      "試聽連結： http://tw.kkbox.com/song/4shyzOm0F.MTH3d.F3d.F0P4-index.html\n",
      "\n",
      "\n",
      "相似歌詞： 一 落葉 在 風裡搖 看 自己 如此 渺小 渴望 得到 如今 你 啊 溫暖 擁抱 想 你 每分 每秒 夢醒 了 無依無靠 如今 我 盼 忘記 了 你 呀 的 好 還 剩 些 什麼 只 剩 兩滴 冰 的 淚水 一滴 化斗酒 添 一分 自醉 一滴 沉 落於 歲月 的 潮水 還 留下 些 什麼 只 留下 兩顆 冰 的 淚水 一顆 化 頑石 拒絕 傷感 一顆 化 決心 靜候 輪迴 一 落葉 在 風裡搖 看 自己 如此 渺小 渴望 得到 如今 你 啊 溫暖 擁抱 想 你 每分 每秒 夢醒 了 無依無靠 如今 我 盼 忘記 了 你 呀 的 好 還 剩 些 什麼 只 剩 兩滴 冰 的 淚水 一滴 化斗酒 添 一分 自醉 一滴 沉 落於 歲月 的 潮水 還 留下 些 什麼 只 留下 兩顆 冰 的 淚水 一顆 化 頑石 拒絕 傷感 一顆 化 決心 靜候 輪迴 任 往事 呼嘯 憑 記憶 纏繞 緣 已盡 說走就走 沒有 徵兆 任 孤單 煎熬 憑 想 灼傷 天要 下雨 誰 也 不能 阻撓 還 剩 些 什麼 還 剩 些 什麼 只 剩 兩滴 冰 的 淚水 冰 的 淚水 一滴 化斗酒 添 一分 自醉 一滴 沉 落於 歲月 的 潮水 還 留下 些 什麼 還 留下 些 什麼 只 留下 兩顆 冰 的 淚水 一顆 化 頑石 拒絕 傷感 一顆 化 決心 靜候 輪迴 一顆 化 頑石 拒絕 傷感 一顆 化 決心 靜候 輪迴\n",
      "\n",
      "相似度： 0.439069\n",
      "試聽連結： http://tw.kkbox.com/song/H15JPZhtHXN4kM8VsSVsS0Gn-index.html\n",
      "\n",
      "\n",
      "相似歌詞： 我 知道 故事 不會 太 曲折 我 總會 遇到 一個 什麼 人 陪伴 我過 沒有 了 他 的 人生 成家立業 之類 的 等等 他 做 了 他 覺得 對 的 選擇 我 只得 祝 他 真的 對 了 愛情 不到 我 最 想要 愛 的 人 誰 還能 要 我 怎樣 呢 我愛的 人 不是 我 的 情人 他 心裡 每一寸 都 屬於 另 一個 人 他 真幸福 幸福 的 真 殘忍 讓 我 又 愛又恨 他 的 愛情 怎麼 那麼 深 我愛的 人 他 已有 了 情人 從 他們 的 眼神 說明 了 我 不 可能 每當 聽到 他 或者 他 說 我們 就 像 聽到 愛情 永遠 的 嘲笑聲 他 做 了 他 覺得 對 的 選擇 我 只得 祝 他 真的 對 了 愛情 不到 我 最 想要 愛 的 人 誰 還能 要 我 怎樣 呢 我愛的 人 不是 我 的 情人 他 心裡 每一寸 都 屬於 另 一個 人 他 真幸福 幸福 的 真 殘忍 讓 我 又 愛又恨 他 的 愛情 怎麼 那麼 深 我愛的 人 他 已有 了 情人 從 他們 的 眼神 說明 了 我 不 可能 每當 聽到 他 或者 他 說 我們 就 像 聽到 愛情 永遠 的 嘲笑聲 每當 聽到 他 或者 他 說 我們 就 像 聽到 愛情 永遠 的 嘲笑聲\n",
      "\n",
      "相似度： 0.438395\n",
      "試聽連結： http://tw.kkbox.com/song/yKWwd2MhLY11O3N6Y3N6Y0H4-index.html\n",
      "\n",
      "\n",
      "相似歌詞： 還 記得 年少時 的 夢 嗎 像 朵 永遠 不 凋零 的 花 陪伴 我 經過 那 風吹雨打 看 世事 無常 看 滄桑 變化 那些 為 愛所 付出 的 代價 是 永遠 都 難忘 的 啊 所有 真心 的 癡心 的話 永 在我心中 雖然 已經 沒有 他 走 吧 走 吧 人 總要 學著 自己 長大 走 吧 走 吧 人生 難免 經過 苦楚 掙扎 走 吧 走 吧 為 自己 的 心 找 一個家 也 曾經 傷感 流淚 也 曾經 黯然 心碎 這是 愛 的 代價 也許 我 偶爾 還是 會想 他 偶爾 難免會 惦記 著 他 就當 他 是 個 朋友 啊 也 讓 我 心碎 也 讓 我 牽掛 只是 我 心中 不再 有 火花 讓 往事 都 隨風 去 吧 所有 真心 的 癡心 的話 仍 在我心中 雖然 已經 沒有 他 走 吧 走 吧 人 總要 學著 自己 長大 走 吧 走 吧 人生 難免 經過 苦楚 掙扎 走 吧 走 吧 為 自己 的 心 找 一個家 也 曾經 傷感 流淚 也 曾經 黯然 心碎 這是 愛 的 代價 走 吧 走 吧 人 總要 學著 自己 長大 走 吧 走 吧 人生 難免 經過 苦楚 掙扎 走 吧 走 吧 為 自己 的 心 找 一個家 也 曾經 傷感 流淚 也 曾經 黯然 心碎 這是 愛 的 代價\n",
      "\n",
      "相似度： 0.410202\n",
      "試聽連結： http://tw.kkbox.com/song/Sc1ZEMyFSDHPP1Lqf1Lqf0H4-index.html\n",
      "\n"
     ]
    }
   ],
   "source": [
    "doc = \"飛逝 回憶 看透\"\n",
    "vec_bow = dictionary.doc2bow(doc.lower().split())\n",
    "vec_lsi = lsi[vec_bow]\n",
    "\n",
    "index = similarities.MatrixSimilarity(lsi[corpus], num_features=100)\n",
    "sims = index[vec_lsi]\n",
    "sims = sorted(enumerate(sims), key=lambda item: -item[1])\n",
    "print(sims[:5])\n",
    "lyrics = [];\n",
    "fp = open(\"data/lyrics_word_net.dataset\")\n",
    "for i, line in enumerate(fp):\n",
    "    lyrics.append(line)\n",
    "fp.close()\n",
    "\n",
    "url = [];\n",
    "fp = open(\"data/lyrics_url.dataset\")\n",
    "for i, line in enumerate(fp):\n",
    "    url.append(line)\n",
    "fp.close()\n",
    "\n",
    "for lyric in sims[:5]:\n",
    "    print \"\\n相似歌詞：\",  lyrics[lyric[0]]\n",
    "    print \"相似度：\",  lyric[1]\n",
    "    print \"試聽連結：\",  url[lyric[0]]"
   ]
  },
  {
   "cell_type": "code",
   "execution_count": null,
   "metadata": {},
   "outputs": [],
   "source": []
  }
 ],
 "metadata": {
  "kernelspec": {
   "display_name": "Python 2",
   "language": "python",
   "name": "python2"
  },
  "language_info": {
   "codemirror_mode": {
    "name": "ipython",
    "version": 2
   },
   "file_extension": ".py",
   "mimetype": "text/x-python",
   "name": "python",
   "nbconvert_exporter": "python",
   "pygments_lexer": "ipython2",
   "version": "2.7.12"
  }
 },
 "nbformat": 4,
 "nbformat_minor": 2
}
