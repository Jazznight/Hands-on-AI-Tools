{
 "cells": [
  {
   "cell_type": "markdown",
   "metadata": {},
   "source": [
    "# LSA 潛在語意分析，使用 gensim"
   ]
  },
  {
   "cell_type": "code",
   "execution_count": 2,
   "metadata": {},
   "outputs": [],
   "source": [
    "import os\n",
    "from gensim import corpora, models, similarities\n",
    "\n",
    "dictionary = corpora.Dictionary(document.split() for document in open('data/demo_lyrics_seg.txt'))"
   ]
  },
  {
   "cell_type": "code",
   "execution_count": 3,
   "metadata": {},
   "outputs": [
    {
     "name": "stdout",
     "output_type": "stream",
     "text": [
      "Dictionary(12 unique tokens: [u'\\u5feb\\u6a02', u'\\u5de7\\u514b\\u529b', u'\\u7406\\u60f3', u'\\u5496\\u5561', u'\\u98db\\u7fd4']...)\n"
     ]
    }
   ],
   "source": [
    "print(dictionary)"
   ]
  },
  {
   "cell_type": "code",
   "execution_count": 4,
   "metadata": {},
   "outputs": [
    {
     "name": "stdout",
     "output_type": "stream",
     "text": [
      "[['\\xe5\\xb7\\xa7\\xe5\\x85\\x8b\\xe5\\x8a\\x9b', '\\xe4\\xb8\\x96\\xe7\\x95\\x8c', '\\xe9\\xa2\\xa8\\xe6\\x99\\xaf'], ['\\xe6\\x84\\x9b\\xe6\\x83\\x85', '\\xe7\\x94\\x9c\\xe7\\xbe\\x8e', '\\xe7\\x90\\x86\\xe6\\x83\\xb3', '\\xe5\\xb7\\xa7\\xe5\\x85\\x8b\\xe5\\x8a\\x9b', '\\xe5\\xbf\\xab\\xe6\\xa8\\x82', '\\xe6\\xbb\\x8b\\xe5\\x91\\xb3'], ['\\xe4\\xb8\\x96\\xe7\\x95\\x8c', '\\xe6\\x84\\x9b\\xe6\\x83\\x85', '\\xe5\\x92\\x96\\xe5\\x95\\xa1', '\\xe7\\x94\\x9c\\xe7\\xbe\\x8e'], ['\\xe6\\x84\\x9b\\xe6\\x83\\x85', '\\xe9\\xa2\\xa8\\xe6\\x99\\xaf', '\\xe6\\x84\\x9b\\xe6\\x83\\x85', '\\xe5\\x92\\x96\\xe5\\x95\\xa1'], ['\\xe6\\x84\\x9b\\xe6\\x83\\x85', '\\xe6\\xbb\\x8b\\xe5\\x91\\xb3', '\\xe7\\x94\\x9c\\xe7\\xbe\\x8e'], ['\\xe5\\xa4\\xa2\\xe6\\x83\\xb3'], ['\\xe9\\x99\\xbd\\xe5\\x85\\x89', '\\xe5\\xa4\\xa2\\xe6\\x83\\xb3'], ['\\xe9\\x99\\xbd\\xe5\\x85\\x89', '\\xe9\\xa3\\x9b\\xe7\\xbf\\x94', '\\xe5\\xa4\\xa2\\xe6\\x83\\xb3'], ['\\xe9\\x99\\xbd\\xe5\\x85\\x89', '\\xe7\\x90\\x86\\xe6\\x83\\xb3', '\\xe9\\xa3\\x9b\\xe7\\xbf\\x94']]\n"
     ]
    }
   ],
   "source": [
    "texts = [[word for word in document.split()]\n",
    "         for document in open('data/demo_lyrics_seg.txt')]\n",
    "print(texts)"
   ]
  },
  {
   "cell_type": "code",
   "execution_count": 5,
   "metadata": {},
   "outputs": [],
   "source": [
    "corpus = [dictionary.doc2bow(text) for text in texts]"
   ]
  },
  {
   "cell_type": "code",
   "execution_count": 6,
   "metadata": {},
   "outputs": [],
   "source": [
    "lsi = models.LsiModel(corpus, id2word=dictionary, num_topics=2)"
   ]
  },
  {
   "cell_type": "code",
   "execution_count": 7,
   "metadata": {},
   "outputs": [
    {
     "name": "stdout",
     "output_type": "stream",
     "text": [
      "debug 0\n",
      "[(u'\\u611b\\u60c5', 0.71487716371695076), (u'\\u751c\\u7f8e', 0.40030631824144625), (u'\\u5496\\u5561', 0.28652980644694653), (u'\\u6ecb\\u5473', 0.27106193453225202), (u'\\u5de7\\u514b\\u529b', 0.20578482989003349), (u'\\u98a8\\u666f', 0.20546545015982653), (u'\\u4e16\\u754c', 0.17742441113126872), (u'\\u7406\\u60f3', 0.17601679042327195), (u'\\u5feb\\u6a02', 0.15760480246795891), (u'\\u967d\\u5149', 0.025863037818709526), (u'\\u98db\\u7fd4', 0.023082088626059), (u'\\u5922\\u60f3', 0.0081152410401324048)]\n",
      "debug 1\n",
      "[(u'\\u967d\\u5149', 0.64890367236816204), (u'\\u5922\\u60f3', 0.51440997789451515), (u'\\u98db\\u7fd4', 0.46806292653010778), (u'\\u7406\\u60f3', 0.26261538395779432), (u'\\u611b\\u60c5', -0.091245447220822076), (u'\\u5496\\u5561', -0.082665317410177144), (u'\\u98a8\\u666f', -0.060709996377469884), (u'\\u5feb\\u6a02', 0.048155049319669338), (u'\\u6ecb\\u5473', 0.042076791584799315), (u'\\u4e16\\u754c', -0.042061470996758651), (u'\\u5de7\\u514b\\u529b', 0.038101974337643611), (u'\\u751c\\u7f8e', 0.01006839557006634)]\n"
     ]
    }
   ],
   "source": [
    "print('debug 0')\n",
    "print(lsi.show_topic(0, topn=20))\n",
    "print('debug 1')\n",
    "print(lsi.show_topic(1, topn=20))"
   ]
  },
  {
   "cell_type": "code",
   "execution_count": 8,
   "metadata": {},
   "outputs": [],
   "source": [
    "doc = \"巧克力 世界 風景\"\n",
    "vec_bow = dictionary.doc2bow(doc.lower().split())\n",
    "vec_lsi = lsi[vec_bow]"
   ]
  },
  {
   "cell_type": "code",
   "execution_count": 11,
   "metadata": {},
   "outputs": [
    {
     "name": "stdout",
     "output_type": "stream",
     "text": [
      "[(0, 0.99999994), (2, 0.99979514), (3, 0.99828625), (4, 0.99670351), (1, 0.96405917), (8, 0.052201528), (7, -0.074385986), (6, -0.080131441), (5, -0.093506016)]\n"
     ]
    }
   ],
   "source": [
    "index = similarities.MatrixSimilarity(lsi[corpus], num_features=12)\n",
    "sims = index[vec_lsi]\n",
    "sims = sorted(enumerate(sims), key=lambda item: -item[1])\n",
    "print(sims[:9])"
   ]
  },
  {
   "cell_type": "code",
   "execution_count": 12,
   "metadata": {},
   "outputs": [
    {
     "name": "stdout",
     "output_type": "stream",
     "text": [
      "[(2, 0.99999636), (0, 0.99984622), (3, 0.99915886), (4, 0.99512786), (1, 0.95925266), (8, 0.034684129), (7, -0.091859251), (6, -0.09759602), (5, -0.1109481)]\n"
     ]
    }
   ],
   "source": [
    "doc = \"愛情\"\n",
    "vec_bow = dictionary.doc2bow(doc.lower().split())\n",
    "vec_lsi = lsi[vec_bow]\n",
    "index = similarities.MatrixSimilarity(lsi[corpus], num_features=12)\n",
    "sims = index[vec_lsi]\n",
    "sims = sorted(enumerate(sims), key=lambda item: -item[1])\n",
    "print(sims[:9])"
   ]
  },
  {
   "cell_type": "code",
   "execution_count": null,
   "metadata": {},
   "outputs": [],
   "source": []
  }
 ],
 "metadata": {
  "kernelspec": {
   "display_name": "Python 2",
   "language": "python",
   "name": "python2"
  },
  "language_info": {
   "codemirror_mode": {
    "name": "ipython",
    "version": 2
   },
   "file_extension": ".py",
   "mimetype": "text/x-python",
   "name": "python",
   "nbconvert_exporter": "python",
   "pygments_lexer": "ipython2",
   "version": "2.7.13"
  }
 },
 "nbformat": 4,
 "nbformat_minor": 2
}
